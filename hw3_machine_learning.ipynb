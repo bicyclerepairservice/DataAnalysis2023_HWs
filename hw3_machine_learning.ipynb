{
 "cells": [
  {
   "cell_type": "markdown",
   "id": "911da6e0",
   "metadata": {},
   "source": [
    "# Домашнее задание 3"
   ]
  },
  {
   "cell_type": "markdown",
   "id": "7b55058a",
   "metadata": {},
   "source": [
    "## Импорт необходимых библиотек "
   ]
  },
  {
   "cell_type": "code",
   "execution_count": 1,
   "id": "9311e523",
   "metadata": {},
   "outputs": [],
   "source": [
    "# Мой код именно здесь (ну не везде мой, честно говоря)\n",
    "import csv\n",
    "import pandas as pd\n",
    "import numpy as np\n",
    "from sklearn.model_selection import train_test_split\n",
    "from sklearn.metrics import confusion_matrix\n",
    "from sklearn import metrics\n",
    "from sklearn.metrics import accuracy_score, precision_score, recall_score, f1_score\n",
    "import matplotlib.pyplot as plt\n",
    "from sklearn.metrics import precision_recall_curve\n",
    "import seaborn as sns\n",
    "from sklearn.metrics import roc_auc_score\n",
    "from sklearn.metrics import roc_curve\n",
    "from sklearn.metrics import plot_confusion_matrix\n",
    "from numpy import sqrt\n",
    "from sklearn.preprocessing import StandardScaler\n",
    "from sklearn import preprocessing\n",
    "from sklearn.model_selection import GridSearchCV\n",
    "from sklearn.pipeline import Pipeline\n",
    "from sklearn.metrics import fbeta_score\n",
    "\n",
    "from sklearn.svm import SVC\n",
    "from sklearn.tree import DecisionTreeClassifier\n",
    "from sklearn.linear_model import LogisticRegression\n",
    "from sklearn.model_selection import GridSearchCV\n",
    "from sklearn.ensemble import RandomForestClassifier\n",
    "from sklearn.model_selection import RandomizedSearchCV\n",
    "from sklearn.linear_model import SGDClassifier\n",
    "from sklearn.ensemble import VotingClassifier\n",
    "from sklearn.naive_bayes import GaussianNB\n",
    "\n",
    "from sklearn.experimental import enable_halving_search_cv \n",
    "from sklearn.model_selection import HalvingGridSearchCV\n",
    "# Отключение некоторых лишних предупреждений\n",
    "import warnings\n",
    "warnings.filterwarnings(\"ignore\")"
   ]
  },
  {
   "cell_type": "markdown",
   "id": "8e5cf1b8",
   "metadata": {},
   "source": [
    "## Задача "
   ]
  },
  {
   "cell_type": "markdown",
   "id": "c6f6920e",
   "metadata": {},
   "source": [
    "В данном задании вам необходимо построить предсказательную модель, определяющую пол клиента по его банковским транзакциям.\n",
    "\n",
    "Вам доступны 2 файла:\n",
    "* __transaction.csv__ - файл с транзакциями, колонки:\n",
    "    * user_id - целочисленный идентификатор пользователя\n",
    "    * dt - дата и время совершения транзации, принцип кодирования: \"DAY TIME\"\n",
    "        * DAY - порядковый день транзации с начала сбора данных\n",
    "        * TIME - время в формате hh:mm:ss\n",
    "    * type - тип (категория) совершаемой транзакции\n",
    "    * value - сумма транзакции\n",
    "    \n",
    "* __gender.csv__ - файл с данными о полах клиентов.\n",
    "    * user_id - целочисленный идентификатор пользователя\n",
    "    * gender - целевая переменная, закодированная лейблами 0 и 1. Это сделано:\n",
    "        * a) для удобства\n",
    "        * б) для избежания холиваров о правильности исходных меток \n",
    "\n",
    "Но если вы вдруг захотите похоливарить о том, что метки только две - то заметьте, что о полноте данных мы тоже не утверждаем."
   ]
  },
  {
   "cell_type": "markdown",
   "id": "56da0228",
   "metadata": {},
   "source": [
    "# Часть 1: минималочка [макс 20 баллов]"
   ]
  },
  {
   "cell_type": "markdown",
   "id": "cb568469",
   "metadata": {},
   "source": [
    "В этой части мы с вами попробуем построить самую простую модель для предсказания.\n",
    "\n",
    "Как мы с вами увидим: главная сложность - правильная подготовка данных. В таких задачах то, как именно вы преобразуете данные для обучения модели и будет во много определять её качество.\n",
    "\n",
    "В этой части мы сделаем простое преобразование данных путём простой агрегации данных о величине транзакций. "
   ]
  },
  {
   "cell_type": "markdown",
   "id": "3d8c2bf8",
   "metadata": {},
   "source": [
    "## Загрузка данных [5 баллов] "
   ]
  },
  {
   "cell_type": "code",
   "execution_count": 2,
   "id": "12a08af9",
   "metadata": {},
   "outputs": [],
   "source": [
    "trans = pd.read_csv(\"transactions.csv\", sep = \";\")\n",
    "gen = pd.read_csv(\"gender.csv\")"
   ]
  },
  {
   "cell_type": "code",
   "execution_count": 3,
   "id": "85332f18",
   "metadata": {},
   "outputs": [
    {
     "data": {
      "text/html": [
       "<div>\n",
       "<style scoped>\n",
       "    .dataframe tbody tr th:only-of-type {\n",
       "        vertical-align: middle;\n",
       "    }\n",
       "\n",
       "    .dataframe tbody tr th {\n",
       "        vertical-align: top;\n",
       "    }\n",
       "\n",
       "    .dataframe thead th {\n",
       "        text-align: right;\n",
       "    }\n",
       "</style>\n",
       "<table border=\"1\" class=\"dataframe\">\n",
       "  <thead>\n",
       "    <tr style=\"text-align: right;\">\n",
       "      <th></th>\n",
       "      <th>user_id</th>\n",
       "      <th>dt</th>\n",
       "      <th>type</th>\n",
       "      <th>value</th>\n",
       "    </tr>\n",
       "  </thead>\n",
       "  <tbody>\n",
       "    <tr>\n",
       "      <th>0</th>\n",
       "      <td>39026145</td>\n",
       "      <td>0 10:23:26</td>\n",
       "      <td>Звонки с использованием телефонов, считывающих...</td>\n",
       "      <td>2695.099</td>\n",
       "    </tr>\n",
       "    <tr>\n",
       "      <th>1</th>\n",
       "      <td>39026145</td>\n",
       "      <td>6 07:08:31</td>\n",
       "      <td>Звонки с использованием телефонов, считывающих...</td>\n",
       "      <td>2358.212</td>\n",
       "    </tr>\n",
       "    <tr>\n",
       "      <th>2</th>\n",
       "      <td>39026145</td>\n",
       "      <td>8 07:06:10</td>\n",
       "      <td>Звонки с использованием телефонов, считывающих...</td>\n",
       "      <td>2807.395</td>\n",
       "    </tr>\n",
       "    <tr>\n",
       "      <th>3</th>\n",
       "      <td>39026145</td>\n",
       "      <td>11 08:49:03</td>\n",
       "      <td>Звонки с использованием телефонов, считывающих...</td>\n",
       "      <td>2695.099</td>\n",
       "    </tr>\n",
       "    <tr>\n",
       "      <th>4</th>\n",
       "      <td>39026145</td>\n",
       "      <td>11 14:12:08</td>\n",
       "      <td>Звонки с использованием телефонов, считывающих...</td>\n",
       "      <td>2695.099</td>\n",
       "    </tr>\n",
       "  </tbody>\n",
       "</table>\n",
       "</div>"
      ],
      "text/plain": [
       "    user_id           dt                                               type  \\\n",
       "0  39026145   0 10:23:26  Звонки с использованием телефонов, считывающих...   \n",
       "1  39026145   6 07:08:31  Звонки с использованием телефонов, считывающих...   \n",
       "2  39026145   8 07:06:10  Звонки с использованием телефонов, считывающих...   \n",
       "3  39026145  11 08:49:03  Звонки с использованием телефонов, считывающих...   \n",
       "4  39026145  11 14:12:08  Звонки с использованием телефонов, считывающих...   \n",
       "\n",
       "      value  \n",
       "0  2695.099  \n",
       "1  2358.212  \n",
       "2  2807.395  \n",
       "3  2695.099  \n",
       "4  2695.099  "
      ]
     },
     "execution_count": 3,
     "metadata": {},
     "output_type": "execute_result"
    }
   ],
   "source": [
    "trans.head()"
   ]
  },
  {
   "cell_type": "code",
   "execution_count": 4,
   "id": "52063f07",
   "metadata": {},
   "outputs": [
    {
     "data": {
      "text/html": [
       "<div>\n",
       "<style scoped>\n",
       "    .dataframe tbody tr th:only-of-type {\n",
       "        vertical-align: middle;\n",
       "    }\n",
       "\n",
       "    .dataframe tbody tr th {\n",
       "        vertical-align: top;\n",
       "    }\n",
       "\n",
       "    .dataframe thead th {\n",
       "        text-align: right;\n",
       "    }\n",
       "</style>\n",
       "<table border=\"1\" class=\"dataframe\">\n",
       "  <thead>\n",
       "    <tr style=\"text-align: right;\">\n",
       "      <th></th>\n",
       "      <th>user_id</th>\n",
       "      <th>gender</th>\n",
       "    </tr>\n",
       "  </thead>\n",
       "  <tbody>\n",
       "    <tr>\n",
       "      <th>0</th>\n",
       "      <td>6740969</td>\n",
       "      <td>1.0</td>\n",
       "    </tr>\n",
       "    <tr>\n",
       "      <th>1</th>\n",
       "      <td>36599781</td>\n",
       "      <td>0.0</td>\n",
       "    </tr>\n",
       "    <tr>\n",
       "      <th>2</th>\n",
       "      <td>91453656</td>\n",
       "      <td>1.0</td>\n",
       "    </tr>\n",
       "    <tr>\n",
       "      <th>3</th>\n",
       "      <td>17431962</td>\n",
       "      <td>1.0</td>\n",
       "    </tr>\n",
       "    <tr>\n",
       "      <th>4</th>\n",
       "      <td>72568668</td>\n",
       "      <td>1.0</td>\n",
       "    </tr>\n",
       "  </tbody>\n",
       "</table>\n",
       "</div>"
      ],
      "text/plain": [
       "    user_id  gender\n",
       "0   6740969     1.0\n",
       "1  36599781     0.0\n",
       "2  91453656     1.0\n",
       "3  17431962     1.0\n",
       "4  72568668     1.0"
      ]
     },
     "execution_count": 4,
     "metadata": {},
     "output_type": "execute_result"
    }
   ],
   "source": [
    "gen.head()"
   ]
  },
  {
   "cell_type": "markdown",
   "id": "ad3a83c9",
   "metadata": {},
   "source": [
    "## Подготовка данных [10 баллов] \n",
    "\n",
    "Для данной задачи необходимо как-то собрать данные для каждого пользователя в один вектор (строку таблицы). Сейчас, как вы можете увидеть, в таблице с данными одному пользователю может соответствовать много строк (каждая операция - отдельная строка).\n",
    "\n",
    "Таким образом, необходима агрегация данных - это можно сделать множеством разных способов."
   ]
  },
  {
   "cell_type": "markdown",
   "id": "567817e8",
   "metadata": {},
   "source": [
    "### Агрегация "
   ]
  },
  {
   "cell_type": "markdown",
   "id": "e3c812ef",
   "metadata": {},
   "source": [
    "Произведите простую агрегацию данных и для каждого пользователя в качестве признаков получите сумму, среднее и стандартное отклонение величины его транзакций. \n",
    "\n",
    "Так же добавите для каждого пользователя колонку с таргетом.\n",
    "\n",
    "По итогу вы должны получить таблицу с колонками:\n",
    "* user_id\n",
    "* value_sum\n",
    "* value_mean\n",
    "* value_std\n",
    "* gender"
   ]
  },
  {
   "cell_type": "code",
   "execution_count": 5,
   "id": "fae2c4e0",
   "metadata": {},
   "outputs": [],
   "source": [
    "dada = pd.DataFrame()\n",
    "dada[\"user_id\"] = trans.groupby(\"user_id\")[\"value\"].sum().index\n",
    "dada[\"value_sum\"] = trans.groupby(\"user_id\")[\"value\"].sum().values\n",
    "dada[\"value_mean\"] = trans.groupby(\"user_id\")[\"value\"].mean().values\n",
    "# берем несмещенную оценку выборочной дисперсии\n",
    "dada[\"value_std\"] = trans.groupby(\"user_id\")[\"value\"].std(ddof=1).values"
   ]
  },
  {
   "cell_type": "code",
   "execution_count": 6,
   "id": "fc3d4f9f",
   "metadata": {},
   "outputs": [],
   "source": [
    "dada = dada.merge(gen, how='left', on='user_id')"
   ]
  },
  {
   "cell_type": "code",
   "execution_count": 7,
   "id": "78293f6e",
   "metadata": {},
   "outputs": [
    {
     "data": {
      "text/plain": [
       "(user_id        0\n",
       " value_sum      0\n",
       " value_mean     0\n",
       " value_std     47\n",
       " gender         0\n",
       " dtype: int64,\n",
       " (8356, 5),\n",
       "    user_id    value_sum   value_mean   value_std  gender\n",
       " 0    22899   274383.315  2143.619648  656.186785     1.0\n",
       " 1    27914   166436.523  2521.765500  415.972053     1.0\n",
       " 2    28753   251578.185  1980.930591  749.304999     0.0\n",
       " 3    31385   717856.052  2323.158744  632.491585     0.0\n",
       " 4    38084  1360028.958  2095.576206  649.030870     0.0)"
      ]
     },
     "execution_count": 7,
     "metadata": {},
     "output_type": "execute_result"
    }
   ],
   "source": [
    "dada.isnull().sum(), dada.shape, dada.head()"
   ]
  },
  {
   "cell_type": "code",
   "execution_count": 8,
   "id": "90d6773e",
   "metadata": {},
   "outputs": [],
   "source": [
    "# заполним пропуски медианными значениями (айди с одним наблюдением). Учитывая что NaN в выборке всего 47 из 8356, то это\n",
    "# никаким образом не повлияет на результаты модели. С тем же успехом можно было бы иключить эти единичные значения из выборки\n",
    "dada = dada.fillna(dada[\"value_std\"].median())\n",
    "dada[\"gender\"] = dada[\"gender\"].astype(int)"
   ]
  },
  {
   "cell_type": "code",
   "execution_count": 9,
   "id": "4aea8492",
   "metadata": {},
   "outputs": [
    {
     "data": {
      "text/html": [
       "<div>\n",
       "<style scoped>\n",
       "    .dataframe tbody tr th:only-of-type {\n",
       "        vertical-align: middle;\n",
       "    }\n",
       "\n",
       "    .dataframe tbody tr th {\n",
       "        vertical-align: top;\n",
       "    }\n",
       "\n",
       "    .dataframe thead th {\n",
       "        text-align: right;\n",
       "    }\n",
       "</style>\n",
       "<table border=\"1\" class=\"dataframe\">\n",
       "  <thead>\n",
       "    <tr style=\"text-align: right;\">\n",
       "      <th></th>\n",
       "      <th>user_id</th>\n",
       "      <th>value_sum</th>\n",
       "      <th>value_mean</th>\n",
       "      <th>value_std</th>\n",
       "      <th>gender</th>\n",
       "    </tr>\n",
       "  </thead>\n",
       "  <tbody>\n",
       "    <tr>\n",
       "      <th>0</th>\n",
       "      <td>22899</td>\n",
       "      <td>274383.315</td>\n",
       "      <td>2143.619648</td>\n",
       "      <td>656.186785</td>\n",
       "      <td>1</td>\n",
       "    </tr>\n",
       "    <tr>\n",
       "      <th>1</th>\n",
       "      <td>27914</td>\n",
       "      <td>166436.523</td>\n",
       "      <td>2521.765500</td>\n",
       "      <td>415.972053</td>\n",
       "      <td>1</td>\n",
       "    </tr>\n",
       "    <tr>\n",
       "      <th>2</th>\n",
       "      <td>28753</td>\n",
       "      <td>251578.185</td>\n",
       "      <td>1980.930591</td>\n",
       "      <td>749.304999</td>\n",
       "      <td>0</td>\n",
       "    </tr>\n",
       "    <tr>\n",
       "      <th>3</th>\n",
       "      <td>31385</td>\n",
       "      <td>717856.052</td>\n",
       "      <td>2323.158744</td>\n",
       "      <td>632.491585</td>\n",
       "      <td>0</td>\n",
       "    </tr>\n",
       "    <tr>\n",
       "      <th>4</th>\n",
       "      <td>38084</td>\n",
       "      <td>1360028.958</td>\n",
       "      <td>2095.576206</td>\n",
       "      <td>649.030870</td>\n",
       "      <td>0</td>\n",
       "    </tr>\n",
       "  </tbody>\n",
       "</table>\n",
       "</div>"
      ],
      "text/plain": [
       "   user_id    value_sum   value_mean   value_std  gender\n",
       "0    22899   274383.315  2143.619648  656.186785       1\n",
       "1    27914   166436.523  2521.765500  415.972053       1\n",
       "2    28753   251578.185  1980.930591  749.304999       0\n",
       "3    31385   717856.052  2323.158744  632.491585       0\n",
       "4    38084  1360028.958  2095.576206  649.030870       0"
      ]
     },
     "execution_count": 9,
     "metadata": {},
     "output_type": "execute_result"
    }
   ],
   "source": [
    "dada.head()"
   ]
  },
  {
   "cell_type": "markdown",
   "id": "194e73a7",
   "metadata": {},
   "source": [
    "### Отложенная выборка "
   ]
  },
  {
   "cell_type": "markdown",
   "id": "d3f431ee",
   "metadata": {},
   "source": [
    "Получите полный список пользователей и разделите их на два списка:\n",
    "* тренировочный список пользователей (80%)\n",
    "* тестовый список пользователей (20%)"
   ]
  },
  {
   "cell_type": "markdown",
   "id": "646a73cf",
   "metadata": {},
   "source": [
    "__Важное замечание__: Далее во всех пунктах, где вам нужно провалидировать (оценить) получившуюся модель исползуйте данные только для этих тестовых пользователей.\n",
    "\n",
    "Обучать все модели, естественно, нужно только на данных пользователей из обучающего списка."
   ]
  },
  {
   "cell_type": "code",
   "execution_count": 10,
   "id": "a74ea5aa",
   "metadata": {},
   "outputs": [],
   "source": [
    "# код из 7 семинара\n",
    "dada_new = dada.set_index('user_id')\n",
    "dada_y = dada_new[\"gender\"]\n",
    "dada_x = dada_new.drop(columns=[\"gender\"])\n",
    "feature_names = dada_x.columns.values"
   ]
  },
  {
   "cell_type": "markdown",
   "id": "c4e54aa8",
   "metadata": {},
   "source": [
    "Для нашей задачи получите признаки и целевые метки обучающей и тестовой выборки. "
   ]
  },
  {
   "cell_type": "code",
   "execution_count": 11,
   "id": "e947e769",
   "metadata": {},
   "outputs": [],
   "source": [
    "X_train, X_test, y_train, y_test = train_test_split(dada_x, dada_y, test_size=0.2, random_state=1337)"
   ]
  },
  {
   "cell_type": "markdown",
   "id": "d4f8b97f",
   "metadata": {},
   "source": [
    "-------------------------------"
   ]
  },
  {
   "cell_type": "markdown",
   "id": "852a5e0c",
   "metadata": {},
   "source": [
    "## Обучение и оценка модели [5 баллов] "
   ]
  },
  {
   "cell_type": "markdown",
   "id": "0d3a14bb",
   "metadata": {},
   "source": [
    "Обучите модель логистической регрессии с дефолтными параметрами.\n",
    "\n",
    "Получите предсказания вероятностей первого класса."
   ]
  },
  {
   "cell_type": "code",
   "execution_count": 12,
   "id": "9b458875",
   "metadata": {},
   "outputs": [],
   "source": [
    "bella_hadid = LogisticRegression()\n",
    "bella_hadid.fit(X_train, y_train)\n",
    "y_pred = bella_hadid.predict_proba(X_test)"
   ]
  },
  {
   "cell_type": "code",
   "execution_count": 13,
   "id": "d672b24c",
   "metadata": {},
   "outputs": [],
   "source": [
    "first_pred = y_pred[:,1] # предсказания вероятностей первого коласса"
   ]
  },
  {
   "cell_type": "markdown",
   "id": "f2345148",
   "metadata": {},
   "source": [
    "### Валидация "
   ]
  },
  {
   "cell_type": "markdown",
   "id": "ee3576b3",
   "metadata": {},
   "source": [
    "Посчитайте ROC_AUC, accuracy, precision, recall для получившихся предсказаний.\n",
    "\n",
    "Для метрик, для которых необходимы метки классов, а не вероятности - используйте порог 0.5.\n",
    "\n",
    "Далее при оценки других моделей приводите эти же метрики (если явно не указано иное)."
   ]
  },
  {
   "cell_type": "code",
   "execution_count": 14,
   "id": "434f611a",
   "metadata": {},
   "outputs": [],
   "source": [
    "porog = 0.5\n",
    "y_pred = 1*(first_pred >= porog)"
   ]
  },
  {
   "cell_type": "code",
   "execution_count": 15,
   "id": "52d2817e",
   "metadata": {},
   "outputs": [
    {
     "data": {
      "text/plain": [
       "array([[919,  12],\n",
       "       [733,   8]], dtype=int64)"
      ]
     },
     "execution_count": 15,
     "metadata": {},
     "output_type": "execute_result"
    }
   ],
   "source": [
    "# построим матрицу с TP (правильно ,FP,TN, FN:\n",
    "config = confusion_matrix(y_test, y_pred)\n",
    "config\n",
    "# То есть "
   ]
  },
  {
   "cell_type": "code",
   "execution_count": 16,
   "id": "98d391ba",
   "metadata": {},
   "outputs": [
    {
     "data": {
      "image/png": "[encoded data removed]",
      "text/plain": [
       "<Figure size 432x288 with 2 Axes>"
      ]
     },
     "metadata": {
      "needs_background": "light"
     },
     "output_type": "display_data"
    }
   ],
   "source": [
    "#https://scikit-learn.org/stable/modules/generated/sklearn.metrics.ConfusionMatrixDisplay.html\n",
    "#https://stackoverflow.com/questions/63591238/fixing-confusion-matrix-plot-lines\n",
    "metr = metrics.ConfusionMatrixDisplay(confusion_matrix = config, display_labels = bella_hadid.classes_)\n",
    "metr.plot()\n",
    "plt.grid(b=None)\n",
    "None"
   ]
  },
  {
   "cell_type": "markdown",
   "id": "c33ab217",
   "metadata": {},
   "source": [
    "* **Accuracy** показывает, какую долю признаков мы в целом угадываем. Рассчитывается как сумма всех угаданных параметров, деленная на количество ввсех имеющихся категорий. То есть это (TN + TP) / (TN + TP + FN + FP) = (919 + 8) / (919 + 8 + 733 + 12) = 0.5544\n",
    "* **Точность** показывает, какова доля истинных угаданных 1 классов из всех названных 1 классов модели. Рассчитывается как отношение правильно угаданного 1 класса к сумме правильно угаданного 1 класса и неправильно угаданного первого класса. То есть TP / (TP + FP) = 8 / (8 + 12) = 0.4\n",
    "* **Полнота** показывает, какую долю первых классов из всех имеющихся истинных предсказала модель. Рассчитвается как отношение правильно угаданного 1 класса к сумме правильно угаданного 1 класса и неправильно угаданного 0 класса. То есть TP / (TP + FN) = 8 / (8 + 733) = 0.0108"
   ]
  },
  {
   "cell_type": "code",
   "execution_count": 17,
   "id": "cab948a5",
   "metadata": {},
   "outputs": [
    {
     "name": "stdout",
     "output_type": "stream",
     "text": [
      "Accuracy score: 0.5544258373205742 \n",
      " \n",
      " Accuracy score с нулями: 0.9880382775119617 \n",
      " \n",
      " Precision score: 0.4 \n",
      " \n",
      " Recall score: 0.010796221322537112 \n",
      " \n",
      "\n"
     ]
    }
   ],
   "source": [
    "print(f'Accuracy score: {accuracy_score(y_test, y_pred)}', '\\n', '\\n',\n",
    "      f'Accuracy score с нулями: {accuracy_score(np.zeros_like(y_test), y_pred)}', '\\n', '\\n',\n",
    "      f'Precision score: {precision_score(y_test, y_pred)}', '\\n', '\\n',\n",
    "     f'Recall score: {recall_score(y_test, y_pred)}', '\\n', '\\n')"
   ]
  },
  {
   "cell_type": "code",
   "execution_count": 18,
   "id": "b28bb541",
   "metadata": {},
   "outputs": [
    {
     "data": {
      "text/plain": [
       "0    931\n",
       "1    741\n",
       "Name: gender, dtype: int64"
      ]
     },
     "execution_count": 18,
     "metadata": {},
     "output_type": "execute_result"
    }
   ],
   "source": [
    "y_test.value_counts()"
   ]
  },
  {
   "cell_type": "markdown",
   "id": "bf92b316",
   "metadata": {},
   "source": [
    "**Вывод:** \n",
    "* Проблема крайне низкого показателя полноты заключается в выборе порога: судя по всему, большая часть истинных 1 в модели получили вероятности меньше 0.5. Однако те, которые оказались больше 0.5, в 40% случаев действительно оказались истинными и были классифицированы моделью правильно. В этом заключается проблема метрик recall и precision - при рассмотрении только одного порога трудно оценить качество модели, поэтому необходимо применить более обобщенные методы для получиения оптимального порога.\n",
    "* Accuracy score демонтрирует основную проблему, связанную с данными в целом: на имеющийся небольшой дизбаланс классов накладывается плохо построенная модель. В случае, если изначальные истинне значения тестовой выборки изменить на нули, но предсказанные значения вместе с ними будут давать accuracy score 98,8%. То есть модель практически не предсказывает 1 класс, и, соответственно, поэтому в текущем датасете accuracy - крайне нерепрезентативный показатель. Задача состоит в оптимальном подборе точности и полноты, чтобы меньшинство 1 класса также было адекватно предсказано. А выполнить это можно засчет изменения порога отсечения меток классов или засчет настройки изначальных данных или даже засчет введения регуляризации самой модели.\n",
    "* **Из 741 значений первого класса модель определила верно только 8.... (recall)**"
   ]
  },
  {
   "cell_type": "markdown",
   "id": "b8fa9d63",
   "metadata": {},
   "source": [
    "![meme1.png](https://encrypted-tbn0.gstatic.com/images?q=tbn:ANd9GcTr63Iqda6CsJYz_8XPyERo6zif-_1tFcZvPw&usqp=CAU)"
   ]
  },
  {
   "cell_type": "code",
   "execution_count": 19,
   "id": "63bdf70a",
   "metadata": {},
   "outputs": [
    {
     "data": {
      "image/png": "[encoded data removed]",
      "text/plain": [
       "<Figure size 720x576 with 1 Axes>"
      ]
     },
     "metadata": {},
     "output_type": "display_data"
    }
   ],
   "source": [
    "# Для начала построим precision-recall кривую, так как она проще интерпретируется в терминах полноты и точности:\n",
    "pres, rec, ct = precision_recall_curve(y_test, first_pred)\n",
    "sns.set(rc={'figure.figsize':(10,8)})\n",
    "grabgh = sns.lineplot(rec, pres)\n",
    "grabgh.set(xlabel = 'Полнота', ylabel = 'Точность', title = 'Precision-Recall кривая')\n",
    "None"
   ]
  },
  {
   "cell_type": "code",
   "execution_count": 20,
   "id": "ad66c58b",
   "metadata": {},
   "outputs": [
    {
     "data": {
      "image/png": "[encoded data removed]",
      "text/plain": [
       "<Figure size 720x576 with 1 Axes>"
      ]
     },
     "metadata": {},
     "output_type": "display_data"
    }
   ],
   "source": [
    "# Построим roc-auc кривую:\n",
    "sns.set(rc={'figure.figsize':(10,8)})\n",
    "fallspos, trupos, _ = roc_curve(y_test, first_pred)\n",
    "score = round(roc_auc_score(y_test, first_pred),4)\n",
    "grabgh1 = sns.lineplot(fallspos, trupos, label = f'Логистическая регрессия, Roc-Auc = {score}')\n",
    "grabgh1.set(xlabel = 'False Positive Rate', ylabel = 'True Positive Rate', title = 'Roc-Auc Кривая')\n",
    "sns.lineplot([0, 1], [0, 1], label = \"Рандомный алгортим\", linestyle='--')\n",
    "None"
   ]
  },
  {
   "cell_type": "markdown",
   "id": "9c06a7c5",
   "metadata": {},
   "source": [
    "### Вывод"
   ]
  },
  {
   "cell_type": "markdown",
   "id": "6e95c3d8",
   "metadata": {},
   "source": [
    "Как вы оцениваете качество получившейся модели и возможные причины такого качества?\n",
    "\n",
    "__Ваш вывод__:\n",
    "* Качество обученной модели крайне неудовлетворительно, так как результаты практически не отличаются от рандомного алгоритма классификации\n",
    "* Настройка порога точно не поможет, так как вне зависимости от его изменения, как следует из roc-auc кривой, результаты не улучшатся\n",
    "* Precision-Recall кривая также имеет крайне странную форму, так как с ростом полноты точноть практически не снижается. Более того, при низких значениях полноты (околонулевых) точность значительно падает. С этим точно нужно что-то делать и спасать данные от такой кривой оценки"
   ]
  },
  {
   "cell_type": "markdown",
   "id": "c6122473",
   "metadata": {},
   "source": [
    "![meme.png](https://www.mihaileric.com/static/logistic_regression_meme-dc70fd90996941296fb922886a138053-ed51e.jpg)"
   ]
  },
  {
   "cell_type": "markdown",
   "id": "2b754ba4",
   "metadata": {},
   "source": [
    "---------------------------------"
   ]
  },
  {
   "cell_type": "markdown",
   "id": "e94a47be",
   "metadata": {},
   "source": [
    "# Часть 2: мб сделаем что-то более серьёзное? [макс 20 баллов]"
   ]
  },
  {
   "cell_type": "markdown",
   "id": "6724dd97",
   "metadata": {},
   "source": [
    "Давайте попробуем улучшить качество решения задачи за счёт другого метода подготовки данных.\n",
    "\n",
    "Ранее мы использовали простое преобразование, когда каждый клиент описывался только 3 значениями.\n",
    "Давайте сделаем что-то более сложное и попробуем добавить больше данных о клиенте для модели."
   ]
  },
  {
   "cell_type": "markdown",
   "id": "c5cf8456",
   "metadata": {},
   "source": [
    "## Подготовка данных [15 баллов]"
   ]
  },
  {
   "cell_type": "markdown",
   "id": "d30f62ce",
   "metadata": {},
   "source": [
    "Воспользуемся тем, что каждая транзакция у нас имеет свой тип - это уж точно более информативно, чем агрегация по всем транзакциям.\n",
    "\n",
    "Создайте сводную таблицу, где для каждого клиента (строка) будут указаны его суммарные траты на каждую категорию (столбец). Таким образом, вы должны получить таблицу с числом строк равным количеству клиентов и числом столбцов - количеству категорий трат. Каждая ячейка должна содержать суммарные траты данного клиента в данной категории.\n",
    "\n",
    "__Подсказка__: у DataFrame есть полезный метод `pivot_table`."
   ]
  },
  {
   "cell_type": "code",
   "execution_count": 21,
   "id": "a90e86e4",
   "metadata": {},
   "outputs": [
    {
     "data": {
      "text/plain": [
       "((8356, 184), 184)"
      ]
     },
     "execution_count": 21,
     "metadata": {},
     "output_type": "execute_result"
    }
   ],
   "source": [
    "new_dada = pd.pivot_table(trans,\n",
    "                values = ['value'],\n",
    "               index=['user_id'],\n",
    "               columns=['type'],\n",
    "               aggfunc=np.sum, fill_value=0)\n",
    "new_dada.columns = new_dada.columns.droplevel([0])\n",
    "new_dada.shape, trans['type'].nunique()"
   ]
  },
  {
   "cell_type": "code",
   "execution_count": 22,
   "id": "6d3bf9e1",
   "metadata": {},
   "outputs": [],
   "source": [
    "new_dada = new_dada.merge(gen, how='left', on='user_id')\n",
    "new_dada[\"gender\"] = new_dada[\"gender\"].astype(int)"
   ]
  },
  {
   "cell_type": "code",
   "execution_count": 23,
   "id": "41a59b73",
   "metadata": {},
   "outputs": [
    {
     "data": {
      "text/html": [
       "<div>\n",
       "<style scoped>\n",
       "    .dataframe tbody tr th:only-of-type {\n",
       "        vertical-align: middle;\n",
       "    }\n",
       "\n",
       "    .dataframe tbody tr th {\n",
       "        vertical-align: top;\n",
       "    }\n",
       "\n",
       "    .dataframe thead th {\n",
       "        text-align: right;\n",
       "    }\n",
       "</style>\n",
       "<table border=\"1\" class=\"dataframe\">\n",
       "  <thead>\n",
       "    <tr style=\"text-align: right;\">\n",
       "      <th></th>\n",
       "      <th>user_id</th>\n",
       "      <th>Авиалинии, авиакомпании</th>\n",
       "      <th>Авиалинии, авиакомпании, нигде более не классифицированные</th>\n",
       "      <th>Автобусные линии</th>\n",
       "      <th>Автозапчасти и аксессуары</th>\n",
       "      <th>Автоматизированные бензозаправки</th>\n",
       "      <th>Автомойки</th>\n",
       "      <th>Автошины</th>\n",
       "      <th>Агентства по автотранспортным перевозкам, местные/дальные автогрузоперевозки, компании попереезду и хранению, местная доставка</th>\n",
       "      <th>Агентства по аренде автомобилей</th>\n",
       "      <th>...</th>\n",
       "      <th>Химикалии и смежные вещества, не классифицированные ранее</th>\n",
       "      <th>Химчистки</th>\n",
       "      <th>Ценные бумаги: брокеры/дилеры</th>\n",
       "      <th>Центры здоровья</th>\n",
       "      <th>Цифровые товары, игры</th>\n",
       "      <th>Школы — бизнес и секретарей</th>\n",
       "      <th>Штрафы</th>\n",
       "      <th>Штучные товары, галантерея и другие текстильные товары</th>\n",
       "      <th>Электрические части и оборудование</th>\n",
       "      <th>gender</th>\n",
       "    </tr>\n",
       "  </thead>\n",
       "  <tbody>\n",
       "    <tr>\n",
       "      <th>0</th>\n",
       "      <td>22899</td>\n",
       "      <td>0.0</td>\n",
       "      <td>0.0</td>\n",
       "      <td>0.0</td>\n",
       "      <td>0.0</td>\n",
       "      <td>0.0</td>\n",
       "      <td>0.0</td>\n",
       "      <td>0.0</td>\n",
       "      <td>0.0</td>\n",
       "      <td>0.0</td>\n",
       "      <td>...</td>\n",
       "      <td>0.0</td>\n",
       "      <td>0.0</td>\n",
       "      <td>0.0</td>\n",
       "      <td>0.0</td>\n",
       "      <td>0.0</td>\n",
       "      <td>0.0</td>\n",
       "      <td>0.0</td>\n",
       "      <td>0.0</td>\n",
       "      <td>0.0</td>\n",
       "      <td>1</td>\n",
       "    </tr>\n",
       "    <tr>\n",
       "      <th>1</th>\n",
       "      <td>27914</td>\n",
       "      <td>0.0</td>\n",
       "      <td>0.0</td>\n",
       "      <td>0.0</td>\n",
       "      <td>0.0</td>\n",
       "      <td>0.0</td>\n",
       "      <td>0.0</td>\n",
       "      <td>0.0</td>\n",
       "      <td>0.0</td>\n",
       "      <td>0.0</td>\n",
       "      <td>...</td>\n",
       "      <td>0.0</td>\n",
       "      <td>0.0</td>\n",
       "      <td>0.0</td>\n",
       "      <td>0.0</td>\n",
       "      <td>0.0</td>\n",
       "      <td>0.0</td>\n",
       "      <td>0.0</td>\n",
       "      <td>0.0</td>\n",
       "      <td>0.0</td>\n",
       "      <td>1</td>\n",
       "    </tr>\n",
       "    <tr>\n",
       "      <th>2</th>\n",
       "      <td>28753</td>\n",
       "      <td>0.0</td>\n",
       "      <td>0.0</td>\n",
       "      <td>0.0</td>\n",
       "      <td>0.0</td>\n",
       "      <td>0.0</td>\n",
       "      <td>0.0</td>\n",
       "      <td>0.0</td>\n",
       "      <td>0.0</td>\n",
       "      <td>0.0</td>\n",
       "      <td>...</td>\n",
       "      <td>0.0</td>\n",
       "      <td>0.0</td>\n",
       "      <td>0.0</td>\n",
       "      <td>0.0</td>\n",
       "      <td>0.0</td>\n",
       "      <td>0.0</td>\n",
       "      <td>0.0</td>\n",
       "      <td>0.0</td>\n",
       "      <td>0.0</td>\n",
       "      <td>0</td>\n",
       "    </tr>\n",
       "    <tr>\n",
       "      <th>3</th>\n",
       "      <td>31385</td>\n",
       "      <td>0.0</td>\n",
       "      <td>0.0</td>\n",
       "      <td>0.0</td>\n",
       "      <td>0.0</td>\n",
       "      <td>0.0</td>\n",
       "      <td>0.0</td>\n",
       "      <td>0.0</td>\n",
       "      <td>0.0</td>\n",
       "      <td>0.0</td>\n",
       "      <td>...</td>\n",
       "      <td>0.0</td>\n",
       "      <td>0.0</td>\n",
       "      <td>0.0</td>\n",
       "      <td>0.0</td>\n",
       "      <td>0.0</td>\n",
       "      <td>0.0</td>\n",
       "      <td>0.0</td>\n",
       "      <td>0.0</td>\n",
       "      <td>0.0</td>\n",
       "      <td>0</td>\n",
       "    </tr>\n",
       "    <tr>\n",
       "      <th>4</th>\n",
       "      <td>38084</td>\n",
       "      <td>0.0</td>\n",
       "      <td>0.0</td>\n",
       "      <td>0.0</td>\n",
       "      <td>0.0</td>\n",
       "      <td>0.0</td>\n",
       "      <td>0.0</td>\n",
       "      <td>0.0</td>\n",
       "      <td>0.0</td>\n",
       "      <td>0.0</td>\n",
       "      <td>...</td>\n",
       "      <td>0.0</td>\n",
       "      <td>0.0</td>\n",
       "      <td>0.0</td>\n",
       "      <td>0.0</td>\n",
       "      <td>0.0</td>\n",
       "      <td>0.0</td>\n",
       "      <td>0.0</td>\n",
       "      <td>0.0</td>\n",
       "      <td>0.0</td>\n",
       "      <td>0</td>\n",
       "    </tr>\n",
       "  </tbody>\n",
       "</table>\n",
       "<p>5 rows × 186 columns</p>\n",
       "</div>"
      ],
      "text/plain": [
       "   user_id  Авиалинии, авиакомпании  \\\n",
       "0    22899                      0.0   \n",
       "1    27914                      0.0   \n",
       "2    28753                      0.0   \n",
       "3    31385                      0.0   \n",
       "4    38084                      0.0   \n",
       "\n",
       "   Авиалинии, авиакомпании, нигде более не классифицированные  \\\n",
       "0                                                0.0            \n",
       "1                                                0.0            \n",
       "2                                                0.0            \n",
       "3                                                0.0            \n",
       "4                                                0.0            \n",
       "\n",
       "   Автобусные линии  Автозапчасти и аксессуары  \\\n",
       "0               0.0                        0.0   \n",
       "1               0.0                        0.0   \n",
       "2               0.0                        0.0   \n",
       "3               0.0                        0.0   \n",
       "4               0.0                        0.0   \n",
       "\n",
       "   Автоматизированные бензозаправки  Автомойки  Автошины  \\\n",
       "0                               0.0        0.0       0.0   \n",
       "1                               0.0        0.0       0.0   \n",
       "2                               0.0        0.0       0.0   \n",
       "3                               0.0        0.0       0.0   \n",
       "4                               0.0        0.0       0.0   \n",
       "\n",
       "   Агентства по автотранспортным перевозкам, местные/дальные автогрузоперевозки, компании попереезду и хранению, местная доставка  \\\n",
       "0                                                0.0                                                                                \n",
       "1                                                0.0                                                                                \n",
       "2                                                0.0                                                                                \n",
       "3                                                0.0                                                                                \n",
       "4                                                0.0                                                                                \n",
       "\n",
       "   Агентства по аренде автомобилей  ...  \\\n",
       "0                              0.0  ...   \n",
       "1                              0.0  ...   \n",
       "2                              0.0  ...   \n",
       "3                              0.0  ...   \n",
       "4                              0.0  ...   \n",
       "\n",
       "   Химикалии и смежные вещества, не классифицированные ранее  Химчистки  \\\n",
       "0                                                0.0                0.0   \n",
       "1                                                0.0                0.0   \n",
       "2                                                0.0                0.0   \n",
       "3                                                0.0                0.0   \n",
       "4                                                0.0                0.0   \n",
       "\n",
       "   Ценные бумаги: брокеры/дилеры  Центры здоровья  Цифровые товары, игры  \\\n",
       "0                            0.0              0.0                    0.0   \n",
       "1                            0.0              0.0                    0.0   \n",
       "2                            0.0              0.0                    0.0   \n",
       "3                            0.0              0.0                    0.0   \n",
       "4                            0.0              0.0                    0.0   \n",
       "\n",
       "   Школы — бизнес и секретарей  Штрафы  \\\n",
       "0                          0.0     0.0   \n",
       "1                          0.0     0.0   \n",
       "2                          0.0     0.0   \n",
       "3                          0.0     0.0   \n",
       "4                          0.0     0.0   \n",
       "\n",
       "   Штучные товары, галантерея и другие текстильные товары  \\\n",
       "0                                                0.0        \n",
       "1                                                0.0        \n",
       "2                                                0.0        \n",
       "3                                                0.0        \n",
       "4                                                0.0        \n",
       "\n",
       "   Электрические части и оборудование  gender  \n",
       "0                                 0.0       1  \n",
       "1                                 0.0       1  \n",
       "2                                 0.0       0  \n",
       "3                                 0.0       0  \n",
       "4                                 0.0       0  \n",
       "\n",
       "[5 rows x 186 columns]"
      ]
     },
     "execution_count": 23,
     "metadata": {},
     "output_type": "execute_result"
    }
   ],
   "source": [
    "new_dada.head()"
   ]
  },
  {
   "cell_type": "markdown",
   "id": "0159d8e5",
   "metadata": {},
   "source": [
    "---------------------------"
   ]
  },
  {
   "cell_type": "markdown",
   "id": "ad21c6ef",
   "metadata": {},
   "source": [
    "## Обучение и валидация модели [5 баллов]"
   ]
  },
  {
   "cell_type": "markdown",
   "id": "39a87010",
   "metadata": {},
   "source": [
    "Аналогично предыдущей части разделите данные на обучающую и тестовую выборку (80%/20%), обучите модель на дефолтных параметрах и оцените качество."
   ]
  },
  {
   "cell_type": "code",
   "execution_count": 24,
   "id": "8aa668ce",
   "metadata": {},
   "outputs": [],
   "source": [
    "new_dada = new_dada.set_index('user_id')\n",
    "dada_y = new_dada[\"gender\"]\n",
    "dada_x = new_dada.drop(columns=[\"gender\"])\n",
    "X_train, X_test, y_train, y_test = train_test_split(dada_x, dada_y, test_size=0.2, random_state=1337)"
   ]
  },
  {
   "cell_type": "code",
   "execution_count": 25,
   "id": "6d6de6c7",
   "metadata": {},
   "outputs": [],
   "source": [
    "emily_ratajkowski  = LogisticRegression()\n",
    "emily_ratajkowski.fit(X_train, y_train)\n",
    "y_pred = emily_ratajkowski.predict_proba(X_test)"
   ]
  },
  {
   "cell_type": "code",
   "execution_count": 26,
   "id": "8a91888f",
   "metadata": {},
   "outputs": [],
   "source": [
    "first_pred = y_pred[:,1] # предсказания вероятностей первого коласса"
   ]
  },
  {
   "cell_type": "code",
   "execution_count": 27,
   "id": "af966f74",
   "metadata": {},
   "outputs": [
    {
     "data": {
      "image/png": "[encoded data removed]",
      "text/plain": [
       "<Figure size 720x576 with 1 Axes>"
      ]
     },
     "metadata": {},
     "output_type": "display_data"
    }
   ],
   "source": [
    "pres, rec, ct = precision_recall_curve(y_test, first_pred)\n",
    "sns.set(rc={'figure.figsize':(10,8)})\n",
    "grabgh = sns.lineplot(rec, pres)\n",
    "grabgh.set(xlabel = 'Полнота', ylabel = 'Точность', title = 'Precision-Recall кривая')\n",
    "None"
   ]
  },
  {
   "cell_type": "code",
   "execution_count": 28,
   "id": "638d3358",
   "metadata": {},
   "outputs": [
    {
     "name": "stdout",
     "output_type": "stream",
     "text": [
      "[0.80701754]\n",
      "[0.62291667]\n"
     ]
    }
   ],
   "source": [
    "# Найдем оптимальный показатель отсечения: точка, которая наиболее близко расположена к Recall = 1 и Precision = 1\n",
    "# Сделано это потому, что в данных не указано, какой именно показатель важнее, поэтому можно максимизировать оба и сразу\n",
    "unos = np.ones_like(pres)\n",
    "gipotenuza = sqrt((unos - pres) ** 2 + (unos - rec) ** 2)\n",
    "nomer = np.where(gipotenuza == gipotenuza.min())\n",
    "print(rec[nomer]) # оптимальное значение Recall\n",
    "print(pres[nomer]) # оптимальное значение Precision"
   ]
  },
  {
   "cell_type": "code",
   "execution_count": 29,
   "id": "d5a2b1b3",
   "metadata": {},
   "outputs": [
    {
     "data": {
      "image/png": "[encoded data removed]",
      "text/plain": [
       "<Figure size 720x576 with 1 Axes>"
      ]
     },
     "metadata": {},
     "output_type": "display_data"
    }
   ],
   "source": [
    "# Построим roc-auc кривую:\n",
    "sns.set(rc={'figure.figsize':(10,8)})\n",
    "fallspos, trupos, threshold = roc_curve(y_test, first_pred)\n",
    "score = round(roc_auc_score(y_test, first_pred),4)\n",
    "grabgh1 = sns.lineplot(fallspos, trupos, label = f'Логистическая регрессия, Roc-Auc = {score}')\n",
    "grabgh1.set(xlabel = 'False Positive Rate', ylabel = 'True Positive Rate', title = 'Roc-Auc Кривая')\n",
    "sns.lineplot([0, 1], [0, 1], label = \"Рандомный алгортим\", linestyle='--')\n",
    "None"
   ]
  },
  {
   "cell_type": "code",
   "execution_count": 30,
   "id": "e33700e9",
   "metadata": {},
   "outputs": [],
   "source": [
    "# Найдем оптимальный показатель отсечения: точка, которая наиболее близко расположена к TRP = 1\n",
    "unos = np.ones_like(fallspos)\n",
    "gipotenuza = sqrt((unos - trupos) ** 2 + fallspos ** 2)\n",
    "nomer = np.where(gipotenuza == gipotenuza.min())\n",
    "prohod = threshold[nomer] # получили порог, максимизирующий True Postitve Rate, то есть "
   ]
  },
  {
   "cell_type": "code",
   "execution_count": 31,
   "id": "9843fe94",
   "metadata": {},
   "outputs": [
    {
     "data": {
      "image/png": "[encoded data removed]",
      "text/plain": [
       "<Figure size 720x576 with 2 Axes>"
      ]
     },
     "metadata": {},
     "output_type": "display_data"
    }
   ],
   "source": [
    "y_pred = 1*(first_pred >= prohod)\n",
    "config = confusion_matrix(y_test, y_pred)\n",
    "metr = metrics.ConfusionMatrixDisplay(confusion_matrix = config, display_labels = emily_ratajkowski.classes_)\n",
    "metr.plot()\n",
    "plt.grid(b=None)\n",
    "None"
   ]
  },
  {
   "cell_type": "code",
   "execution_count": 32,
   "id": "0f9e8e69",
   "metadata": {},
   "outputs": [
    {
     "name": "stdout",
     "output_type": "stream",
     "text": [
      "Accuracy score: 0.7260765550239234 \n",
      " \n",
      " Accuracy score с нулями: 0.5592105263157895 \n",
      " \n",
      " Precision score: 0.6919945725915875 \n",
      " \n",
      " Recall score: 0.6882591093117408 \n",
      " \n",
      "\n"
     ]
    }
   ],
   "source": [
    "print(f'Accuracy score: {accuracy_score(y_test, y_pred)}', '\\n', '\\n',\n",
    "      f'Accuracy score с нулями: {accuracy_score(np.zeros_like(y_test), y_pred)}', '\\n', '\\n',\n",
    "      f'Precision score: {precision_score(y_test, y_pred)}', '\\n', '\\n',\n",
    "     f'Recall score: {recall_score(y_test, y_pred)}', '\\n', '\\n')"
   ]
  },
  {
   "cell_type": "markdown",
   "id": "8f67c1fb",
   "metadata": {},
   "source": [
    "### Вывод "
   ]
  },
  {
   "cell_type": "markdown",
   "id": "3988e390",
   "metadata": {},
   "source": [
    "Изменилось ли качество модели? Почему?\n",
    "\n",
    "__Ваш вывод:__\n",
    "* Модель значительно улучшила свои результаты: это особенно заметно по площади под кривой ROC-AUC - она возросла с 0.54 до 0.8\n",
    "* Если подбирать оптимальный порог по оптимизации Roc-Auc кривой, то итоговые значения точности и полноты значительно улучшились: 0,74 и 0,63 соответственно\n",
    "* Такие резульататы были получены благодаря созданию новых признаков для модели. В первый раз признака было всего три: сумма покупки, ее средняя и выборочная несмещенная дисперсия. Все эти численные показатели были относительно похожи между собой, поэтому не давали четкого разделения между двумя таргетами 0 и 1. Когда же мы создали для каждого покупателя сразу по 184 признака, демонстрирующих сколько и на какую категорию продукции тратил каждый индивид, мы получили более выраженную классификацию. В целом для повышения качества моделей в регрессиях часто используют создание новых признаков (в случае численных,их например возводят в степени или перемножают между собой), но в этом деле обязательно необходимо соблюдать баланс: можно насоздавать столько признаков, что модель переобучится и на тестовой выборке будет показывать крайне плачевные резульаты при практически минимальных ошибках в тренировочной"
   ]
  },
  {
   "cell_type": "markdown",
   "id": "73276aba",
   "metadata": {},
   "source": [
    "### Также для более интуитивно понятного сравнения проведем анализ, используя крайне неоптимальный порог 0.5 и сравиним результаты с предыдущим пунктом:"
   ]
  },
  {
   "cell_type": "code",
   "execution_count": 33,
   "id": "5b2b06ca",
   "metadata": {},
   "outputs": [
    {
     "data": {
      "image/png": "[encoded data removed]",
      "text/plain": [
       "<Figure size 720x576 with 2 Axes>"
      ]
     },
     "metadata": {},
     "output_type": "display_data"
    }
   ],
   "source": [
    "y_pred = 1*(first_pred >= 0.5)\n",
    "config = confusion_matrix(y_test, y_pred)\n",
    "metr = metrics.ConfusionMatrixDisplay(confusion_matrix = config, display_labels = emily_ratajkowski.classes_)\n",
    "metr.plot()\n",
    "plt.grid(b=None)\n",
    "None"
   ]
  },
  {
   "cell_type": "code",
   "execution_count": 34,
   "id": "cf14ea1e",
   "metadata": {},
   "outputs": [
    {
     "name": "stdout",
     "output_type": "stream",
     "text": [
      "Accuracy score: 0.7368421052631579 \n",
      " \n",
      " Accuracy score с нулями: 0.617822966507177 \n",
      " \n",
      " Precision score: 0.7355242566510172 \n",
      " \n",
      " Recall score: 0.6342780026990553 \n",
      " \n",
      "\n"
     ]
    }
   ],
   "source": [
    "print(f'Accuracy score: {accuracy_score(y_test, y_pred)}', '\\n', '\\n',\n",
    "      f'Accuracy score с нулями: {accuracy_score(np.zeros_like(y_test), y_pred)}', '\\n', '\\n',\n",
    "      f'Precision score: {precision_score(y_test, y_pred)}', '\\n', '\\n',\n",
    "     f'Recall score: {recall_score(y_test, y_pred)}', '\\n', '\\n')"
   ]
  },
  {
   "cell_type": "markdown",
   "id": "dea0064b",
   "metadata": {},
   "source": [
    "**Вывод:** \n",
    "\n",
    "* Precision улучшился более чем на 0.4. Значительный результат также заметен и в recall score - он увеличился почти с нулевого значения до 0.55 в данном пункте. Это улучшение в целом также демонстрирует значительное увеличение ROC-AUC score - теперь он заметно лучше рандомного"
   ]
  },
  {
   "cell_type": "markdown",
   "id": "5f884740",
   "metadata": {},
   "source": [
    "-------------------------\n"
   ]
  },
  {
   "cell_type": "markdown",
   "id": "39eb4d89",
   "metadata": {},
   "source": [
    "# Часть 3: что мы всё про данные? Давайте про модель \n",
    "# [макс 30 баллов]"
   ]
  },
  {
   "cell_type": "markdown",
   "id": "132aaef6",
   "metadata": {},
   "source": [
    "Ранее мы работали только над подготовкой обучающей выборки. Давайте теперь попробуем изменить модель, чтобы добиться наилучшего качества. \n",
    "\n",
    "Входные данные для этой части - выборка с предыдущей."
   ]
  },
  {
   "cell_type": "markdown",
   "id": "381b15b7",
   "metadata": {},
   "source": [
    "## Нормирование данных [5 баллов] "
   ]
  },
  {
   "cell_type": "markdown",
   "id": "0a268750",
   "metadata": {},
   "source": [
    "Как мы знаем, линейные модели любят нормированные данные.\n",
    "\n",
    "Приведите значения всех признаков в отрезок [0, 1]\n",
    "\n",
    "__Замечание__: если вы используете метод, который удаляет информацию о названиях колонок - сохраните эти названия в отдельную переменную, вам это потом может понадобиться."
   ]
  },
  {
   "cell_type": "code",
   "execution_count": 35,
   "id": "7c34f5de",
   "metadata": {},
   "outputs": [],
   "source": [
    "dada_y = new_dada[\"gender\"]\n",
    "dada_x = new_dada.drop(columns=[\"gender\"])\n",
    "feature_names = dada_x.columns.values"
   ]
  },
  {
   "cell_type": "code",
   "execution_count": 36,
   "id": "30985a60",
   "metadata": {},
   "outputs": [],
   "source": [
    "# https://scikit-learn.org/stable/modules/preprocessing.html\n",
    "min_max_scaler = preprocessing.MinMaxScaler()\n",
    "dada_x_norm = min_max_scaler.fit_transform(dada_x)"
   ]
  },
  {
   "cell_type": "code",
   "execution_count": 37,
   "id": "5b127e2f",
   "metadata": {},
   "outputs": [],
   "source": [
    "dada_x_norm = pd.DataFrame(dada_x_norm, columns = feature_names)"
   ]
  },
  {
   "cell_type": "code",
   "execution_count": 38,
   "id": "21c9f05f",
   "metadata": {},
   "outputs": [],
   "source": [
    "X_train, X_test, y_train, y_test = train_test_split(dada_x_norm, dada_y, test_size=0.2, random_state=1337)"
   ]
  },
  {
   "cell_type": "code",
   "execution_count": 39,
   "id": "8f3bea7d",
   "metadata": {},
   "outputs": [
    {
     "data": {
      "text/html": [
       "<div>\n",
       "<style scoped>\n",
       "    .dataframe tbody tr th:only-of-type {\n",
       "        vertical-align: middle;\n",
       "    }\n",
       "\n",
       "    .dataframe tbody tr th {\n",
       "        vertical-align: top;\n",
       "    }\n",
       "\n",
       "    .dataframe thead th {\n",
       "        text-align: right;\n",
       "    }\n",
       "</style>\n",
       "<table border=\"1\" class=\"dataframe\">\n",
       "  <thead>\n",
       "    <tr style=\"text-align: right;\">\n",
       "      <th></th>\n",
       "      <th>Авиалинии, авиакомпании</th>\n",
       "      <th>Авиалинии, авиакомпании, нигде более не классифицированные</th>\n",
       "      <th>Автобусные линии</th>\n",
       "      <th>Автозапчасти и аксессуары</th>\n",
       "      <th>Автоматизированные бензозаправки</th>\n",
       "      <th>Автомойки</th>\n",
       "      <th>Автошины</th>\n",
       "      <th>Агентства по автотранспортным перевозкам, местные/дальные автогрузоперевозки, компании попереезду и хранению, местная доставка</th>\n",
       "      <th>Агентства по аренде автомобилей</th>\n",
       "      <th>Агенты и менеджеры по аренде недвижимости</th>\n",
       "      <th>...</th>\n",
       "      <th>Фотостудии, фотолаборатории</th>\n",
       "      <th>Химикалии и смежные вещества, не классифицированные ранее</th>\n",
       "      <th>Химчистки</th>\n",
       "      <th>Ценные бумаги: брокеры/дилеры</th>\n",
       "      <th>Центры здоровья</th>\n",
       "      <th>Цифровые товары, игры</th>\n",
       "      <th>Школы — бизнес и секретарей</th>\n",
       "      <th>Штрафы</th>\n",
       "      <th>Штучные товары, галантерея и другие текстильные товары</th>\n",
       "      <th>Электрические части и оборудование</th>\n",
       "    </tr>\n",
       "    <tr>\n",
       "      <th>user_id</th>\n",
       "      <th></th>\n",
       "      <th></th>\n",
       "      <th></th>\n",
       "      <th></th>\n",
       "      <th></th>\n",
       "      <th></th>\n",
       "      <th></th>\n",
       "      <th></th>\n",
       "      <th></th>\n",
       "      <th></th>\n",
       "      <th></th>\n",
       "      <th></th>\n",
       "      <th></th>\n",
       "      <th></th>\n",
       "      <th></th>\n",
       "      <th></th>\n",
       "      <th></th>\n",
       "      <th></th>\n",
       "      <th></th>\n",
       "      <th></th>\n",
       "      <th></th>\n",
       "    </tr>\n",
       "  </thead>\n",
       "  <tbody>\n",
       "    <tr>\n",
       "      <th>22899</th>\n",
       "      <td>0.0</td>\n",
       "      <td>0.0</td>\n",
       "      <td>0.0</td>\n",
       "      <td>0.000</td>\n",
       "      <td>0.0</td>\n",
       "      <td>0.0</td>\n",
       "      <td>0.0</td>\n",
       "      <td>0.0</td>\n",
       "      <td>0.0</td>\n",
       "      <td>0.0</td>\n",
       "      <td>...</td>\n",
       "      <td>0.0</td>\n",
       "      <td>0.0</td>\n",
       "      <td>0.0</td>\n",
       "      <td>0.0</td>\n",
       "      <td>0.0</td>\n",
       "      <td>0.00</td>\n",
       "      <td>0.0</td>\n",
       "      <td>0.0</td>\n",
       "      <td>0.0</td>\n",
       "      <td>0.0</td>\n",
       "    </tr>\n",
       "    <tr>\n",
       "      <th>27914</th>\n",
       "      <td>0.0</td>\n",
       "      <td>0.0</td>\n",
       "      <td>0.0</td>\n",
       "      <td>0.000</td>\n",
       "      <td>0.0</td>\n",
       "      <td>0.0</td>\n",
       "      <td>0.0</td>\n",
       "      <td>0.0</td>\n",
       "      <td>0.0</td>\n",
       "      <td>0.0</td>\n",
       "      <td>...</td>\n",
       "      <td>0.0</td>\n",
       "      <td>0.0</td>\n",
       "      <td>0.0</td>\n",
       "      <td>0.0</td>\n",
       "      <td>0.0</td>\n",
       "      <td>0.00</td>\n",
       "      <td>0.0</td>\n",
       "      <td>0.0</td>\n",
       "      <td>0.0</td>\n",
       "      <td>0.0</td>\n",
       "    </tr>\n",
       "    <tr>\n",
       "      <th>28753</th>\n",
       "      <td>0.0</td>\n",
       "      <td>0.0</td>\n",
       "      <td>0.0</td>\n",
       "      <td>0.000</td>\n",
       "      <td>0.0</td>\n",
       "      <td>0.0</td>\n",
       "      <td>0.0</td>\n",
       "      <td>0.0</td>\n",
       "      <td>0.0</td>\n",
       "      <td>0.0</td>\n",
       "      <td>...</td>\n",
       "      <td>0.0</td>\n",
       "      <td>0.0</td>\n",
       "      <td>0.0</td>\n",
       "      <td>0.0</td>\n",
       "      <td>0.0</td>\n",
       "      <td>0.00</td>\n",
       "      <td>0.0</td>\n",
       "      <td>0.0</td>\n",
       "      <td>0.0</td>\n",
       "      <td>0.0</td>\n",
       "    </tr>\n",
       "    <tr>\n",
       "      <th>31385</th>\n",
       "      <td>0.0</td>\n",
       "      <td>0.0</td>\n",
       "      <td>0.0</td>\n",
       "      <td>0.000</td>\n",
       "      <td>0.0</td>\n",
       "      <td>0.0</td>\n",
       "      <td>0.0</td>\n",
       "      <td>0.0</td>\n",
       "      <td>0.0</td>\n",
       "      <td>0.0</td>\n",
       "      <td>...</td>\n",
       "      <td>0.0</td>\n",
       "      <td>0.0</td>\n",
       "      <td>0.0</td>\n",
       "      <td>0.0</td>\n",
       "      <td>0.0</td>\n",
       "      <td>0.00</td>\n",
       "      <td>0.0</td>\n",
       "      <td>0.0</td>\n",
       "      <td>0.0</td>\n",
       "      <td>0.0</td>\n",
       "    </tr>\n",
       "    <tr>\n",
       "      <th>38084</th>\n",
       "      <td>0.0</td>\n",
       "      <td>0.0</td>\n",
       "      <td>0.0</td>\n",
       "      <td>0.000</td>\n",
       "      <td>0.0</td>\n",
       "      <td>0.0</td>\n",
       "      <td>0.0</td>\n",
       "      <td>0.0</td>\n",
       "      <td>0.0</td>\n",
       "      <td>0.0</td>\n",
       "      <td>...</td>\n",
       "      <td>0.0</td>\n",
       "      <td>0.0</td>\n",
       "      <td>0.0</td>\n",
       "      <td>0.0</td>\n",
       "      <td>0.0</td>\n",
       "      <td>0.00</td>\n",
       "      <td>0.0</td>\n",
       "      <td>0.0</td>\n",
       "      <td>0.0</td>\n",
       "      <td>0.0</td>\n",
       "    </tr>\n",
       "    <tr>\n",
       "      <th>...</th>\n",
       "      <td>...</td>\n",
       "      <td>...</td>\n",
       "      <td>...</td>\n",
       "      <td>...</td>\n",
       "      <td>...</td>\n",
       "      <td>...</td>\n",
       "      <td>...</td>\n",
       "      <td>...</td>\n",
       "      <td>...</td>\n",
       "      <td>...</td>\n",
       "      <td>...</td>\n",
       "      <td>...</td>\n",
       "      <td>...</td>\n",
       "      <td>...</td>\n",
       "      <td>...</td>\n",
       "      <td>...</td>\n",
       "      <td>...</td>\n",
       "      <td>...</td>\n",
       "      <td>...</td>\n",
       "      <td>...</td>\n",
       "      <td>...</td>\n",
       "    </tr>\n",
       "    <tr>\n",
       "      <th>99953525</th>\n",
       "      <td>0.0</td>\n",
       "      <td>0.0</td>\n",
       "      <td>0.0</td>\n",
       "      <td>0.000</td>\n",
       "      <td>0.0</td>\n",
       "      <td>0.0</td>\n",
       "      <td>0.0</td>\n",
       "      <td>0.0</td>\n",
       "      <td>0.0</td>\n",
       "      <td>0.0</td>\n",
       "      <td>...</td>\n",
       "      <td>0.0</td>\n",
       "      <td>0.0</td>\n",
       "      <td>0.0</td>\n",
       "      <td>0.0</td>\n",
       "      <td>0.0</td>\n",
       "      <td>0.00</td>\n",
       "      <td>0.0</td>\n",
       "      <td>0.0</td>\n",
       "      <td>0.0</td>\n",
       "      <td>0.0</td>\n",
       "    </tr>\n",
       "    <tr>\n",
       "      <th>99967537</th>\n",
       "      <td>0.0</td>\n",
       "      <td>0.0</td>\n",
       "      <td>0.0</td>\n",
       "      <td>0.000</td>\n",
       "      <td>0.0</td>\n",
       "      <td>0.0</td>\n",
       "      <td>0.0</td>\n",
       "      <td>0.0</td>\n",
       "      <td>0.0</td>\n",
       "      <td>0.0</td>\n",
       "      <td>...</td>\n",
       "      <td>0.0</td>\n",
       "      <td>0.0</td>\n",
       "      <td>0.0</td>\n",
       "      <td>0.0</td>\n",
       "      <td>0.0</td>\n",
       "      <td>0.00</td>\n",
       "      <td>0.0</td>\n",
       "      <td>0.0</td>\n",
       "      <td>0.0</td>\n",
       "      <td>0.0</td>\n",
       "    </tr>\n",
       "    <tr>\n",
       "      <th>99988578</th>\n",
       "      <td>0.0</td>\n",
       "      <td>0.0</td>\n",
       "      <td>0.0</td>\n",
       "      <td>0.000</td>\n",
       "      <td>0.0</td>\n",
       "      <td>0.0</td>\n",
       "      <td>0.0</td>\n",
       "      <td>0.0</td>\n",
       "      <td>0.0</td>\n",
       "      <td>0.0</td>\n",
       "      <td>...</td>\n",
       "      <td>0.0</td>\n",
       "      <td>0.0</td>\n",
       "      <td>0.0</td>\n",
       "      <td>0.0</td>\n",
       "      <td>0.0</td>\n",
       "      <td>4267.24</td>\n",
       "      <td>0.0</td>\n",
       "      <td>0.0</td>\n",
       "      <td>0.0</td>\n",
       "      <td>0.0</td>\n",
       "    </tr>\n",
       "    <tr>\n",
       "      <th>99991245</th>\n",
       "      <td>0.0</td>\n",
       "      <td>0.0</td>\n",
       "      <td>0.0</td>\n",
       "      <td>4446.915</td>\n",
       "      <td>0.0</td>\n",
       "      <td>0.0</td>\n",
       "      <td>0.0</td>\n",
       "      <td>0.0</td>\n",
       "      <td>0.0</td>\n",
       "      <td>0.0</td>\n",
       "      <td>...</td>\n",
       "      <td>0.0</td>\n",
       "      <td>0.0</td>\n",
       "      <td>0.0</td>\n",
       "      <td>0.0</td>\n",
       "      <td>0.0</td>\n",
       "      <td>0.00</td>\n",
       "      <td>0.0</td>\n",
       "      <td>0.0</td>\n",
       "      <td>0.0</td>\n",
       "      <td>0.0</td>\n",
       "    </tr>\n",
       "    <tr>\n",
       "      <th>99999680</th>\n",
       "      <td>0.0</td>\n",
       "      <td>0.0</td>\n",
       "      <td>0.0</td>\n",
       "      <td>0.000</td>\n",
       "      <td>0.0</td>\n",
       "      <td>0.0</td>\n",
       "      <td>0.0</td>\n",
       "      <td>0.0</td>\n",
       "      <td>0.0</td>\n",
       "      <td>0.0</td>\n",
       "      <td>...</td>\n",
       "      <td>0.0</td>\n",
       "      <td>0.0</td>\n",
       "      <td>0.0</td>\n",
       "      <td>0.0</td>\n",
       "      <td>0.0</td>\n",
       "      <td>0.00</td>\n",
       "      <td>0.0</td>\n",
       "      <td>0.0</td>\n",
       "      <td>0.0</td>\n",
       "      <td>0.0</td>\n",
       "    </tr>\n",
       "  </tbody>\n",
       "</table>\n",
       "<p>8356 rows × 184 columns</p>\n",
       "</div>"
      ],
      "text/plain": [
       "          Авиалинии, авиакомпании  \\\n",
       "user_id                             \n",
       "22899                         0.0   \n",
       "27914                         0.0   \n",
       "28753                         0.0   \n",
       "31385                         0.0   \n",
       "38084                         0.0   \n",
       "...                           ...   \n",
       "99953525                      0.0   \n",
       "99967537                      0.0   \n",
       "99988578                      0.0   \n",
       "99991245                      0.0   \n",
       "99999680                      0.0   \n",
       "\n",
       "          Авиалинии, авиакомпании, нигде более не классифицированные  \\\n",
       "user_id                                                                \n",
       "22899                                                   0.0            \n",
       "27914                                                   0.0            \n",
       "28753                                                   0.0            \n",
       "31385                                                   0.0            \n",
       "38084                                                   0.0            \n",
       "...                                                     ...            \n",
       "99953525                                                0.0            \n",
       "99967537                                                0.0            \n",
       "99988578                                                0.0            \n",
       "99991245                                                0.0            \n",
       "99999680                                                0.0            \n",
       "\n",
       "          Автобусные линии  Автозапчасти и аксессуары  \\\n",
       "user_id                                                 \n",
       "22899                  0.0                      0.000   \n",
       "27914                  0.0                      0.000   \n",
       "28753                  0.0                      0.000   \n",
       "31385                  0.0                      0.000   \n",
       "38084                  0.0                      0.000   \n",
       "...                    ...                        ...   \n",
       "99953525               0.0                      0.000   \n",
       "99967537               0.0                      0.000   \n",
       "99988578               0.0                      0.000   \n",
       "99991245               0.0                   4446.915   \n",
       "99999680               0.0                      0.000   \n",
       "\n",
       "          Автоматизированные бензозаправки  Автомойки  Автошины  \\\n",
       "user_id                                                           \n",
       "22899                                  0.0        0.0       0.0   \n",
       "27914                                  0.0        0.0       0.0   \n",
       "28753                                  0.0        0.0       0.0   \n",
       "31385                                  0.0        0.0       0.0   \n",
       "38084                                  0.0        0.0       0.0   \n",
       "...                                    ...        ...       ...   \n",
       "99953525                               0.0        0.0       0.0   \n",
       "99967537                               0.0        0.0       0.0   \n",
       "99988578                               0.0        0.0       0.0   \n",
       "99991245                               0.0        0.0       0.0   \n",
       "99999680                               0.0        0.0       0.0   \n",
       "\n",
       "          Агентства по автотранспортным перевозкам, местные/дальные автогрузоперевозки, компании попереезду и хранению, местная доставка  \\\n",
       "user_id                                                                                                                                    \n",
       "22899                                                   0.0                                                                                \n",
       "27914                                                   0.0                                                                                \n",
       "28753                                                   0.0                                                                                \n",
       "31385                                                   0.0                                                                                \n",
       "38084                                                   0.0                                                                                \n",
       "...                                                     ...                                                                                \n",
       "99953525                                                0.0                                                                                \n",
       "99967537                                                0.0                                                                                \n",
       "99988578                                                0.0                                                                                \n",
       "99991245                                                0.0                                                                                \n",
       "99999680                                                0.0                                                                                \n",
       "\n",
       "          Агентства по аренде автомобилей  \\\n",
       "user_id                                     \n",
       "22899                                 0.0   \n",
       "27914                                 0.0   \n",
       "28753                                 0.0   \n",
       "31385                                 0.0   \n",
       "38084                                 0.0   \n",
       "...                                   ...   \n",
       "99953525                              0.0   \n",
       "99967537                              0.0   \n",
       "99988578                              0.0   \n",
       "99991245                              0.0   \n",
       "99999680                              0.0   \n",
       "\n",
       "          Агенты и менеджеры по аренде недвижимости  ...  \\\n",
       "user_id                                              ...   \n",
       "22899                                           0.0  ...   \n",
       "27914                                           0.0  ...   \n",
       "28753                                           0.0  ...   \n",
       "31385                                           0.0  ...   \n",
       "38084                                           0.0  ...   \n",
       "...                                             ...  ...   \n",
       "99953525                                        0.0  ...   \n",
       "99967537                                        0.0  ...   \n",
       "99988578                                        0.0  ...   \n",
       "99991245                                        0.0  ...   \n",
       "99999680                                        0.0  ...   \n",
       "\n",
       "          Фотостудии, фотолаборатории  \\\n",
       "user_id                                 \n",
       "22899                             0.0   \n",
       "27914                             0.0   \n",
       "28753                             0.0   \n",
       "31385                             0.0   \n",
       "38084                             0.0   \n",
       "...                               ...   \n",
       "99953525                          0.0   \n",
       "99967537                          0.0   \n",
       "99988578                          0.0   \n",
       "99991245                          0.0   \n",
       "99999680                          0.0   \n",
       "\n",
       "          Химикалии и смежные вещества, не классифицированные ранее  \\\n",
       "user_id                                                               \n",
       "22899                                                   0.0           \n",
       "27914                                                   0.0           \n",
       "28753                                                   0.0           \n",
       "31385                                                   0.0           \n",
       "38084                                                   0.0           \n",
       "...                                                     ...           \n",
       "99953525                                                0.0           \n",
       "99967537                                                0.0           \n",
       "99988578                                                0.0           \n",
       "99991245                                                0.0           \n",
       "99999680                                                0.0           \n",
       "\n",
       "          Химчистки  Ценные бумаги: брокеры/дилеры  Центры здоровья  \\\n",
       "user_id                                                               \n",
       "22899           0.0                            0.0              0.0   \n",
       "27914           0.0                            0.0              0.0   \n",
       "28753           0.0                            0.0              0.0   \n",
       "31385           0.0                            0.0              0.0   \n",
       "38084           0.0                            0.0              0.0   \n",
       "...             ...                            ...              ...   \n",
       "99953525        0.0                            0.0              0.0   \n",
       "99967537        0.0                            0.0              0.0   \n",
       "99988578        0.0                            0.0              0.0   \n",
       "99991245        0.0                            0.0              0.0   \n",
       "99999680        0.0                            0.0              0.0   \n",
       "\n",
       "          Цифровые товары, игры  Школы — бизнес и секретарей  Штрафы  \\\n",
       "user_id                                                                \n",
       "22899                      0.00                          0.0     0.0   \n",
       "27914                      0.00                          0.0     0.0   \n",
       "28753                      0.00                          0.0     0.0   \n",
       "31385                      0.00                          0.0     0.0   \n",
       "38084                      0.00                          0.0     0.0   \n",
       "...                         ...                          ...     ...   \n",
       "99953525                   0.00                          0.0     0.0   \n",
       "99967537                   0.00                          0.0     0.0   \n",
       "99988578                4267.24                          0.0     0.0   \n",
       "99991245                   0.00                          0.0     0.0   \n",
       "99999680                   0.00                          0.0     0.0   \n",
       "\n",
       "          Штучные товары, галантерея и другие текстильные товары  \\\n",
       "user_id                                                            \n",
       "22899                                                   0.0        \n",
       "27914                                                   0.0        \n",
       "28753                                                   0.0        \n",
       "31385                                                   0.0        \n",
       "38084                                                   0.0        \n",
       "...                                                     ...        \n",
       "99953525                                                0.0        \n",
       "99967537                                                0.0        \n",
       "99988578                                                0.0        \n",
       "99991245                                                0.0        \n",
       "99999680                                                0.0        \n",
       "\n",
       "          Электрические части и оборудование  \n",
       "user_id                                       \n",
       "22899                                    0.0  \n",
       "27914                                    0.0  \n",
       "28753                                    0.0  \n",
       "31385                                    0.0  \n",
       "38084                                    0.0  \n",
       "...                                      ...  \n",
       "99953525                                 0.0  \n",
       "99967537                                 0.0  \n",
       "99988578                                 0.0  \n",
       "99991245                                 0.0  \n",
       "99999680                                 0.0  \n",
       "\n",
       "[8356 rows x 184 columns]"
      ]
     },
     "execution_count": 39,
     "metadata": {},
     "output_type": "execute_result"
    }
   ],
   "source": [
    "dada_x"
   ]
  },
  {
   "cell_type": "markdown",
   "id": "7adad023",
   "metadata": {},
   "source": [
    "## Подбор параметров [15 баллов]"
   ]
  },
  {
   "cell_type": "markdown",
   "id": "e3a63257",
   "metadata": {},
   "source": [
    "Подберите наилучшие параметры для модели логистической регрессии. Важные уточнения:\n",
    "\n",
    "* используйте перебор по сетке\n",
    "* в качестве метрики используйте ROC AUC\n",
    "* для оценки параметров делайте кросс-валидацию на 4 фолдах\n",
    "\n",
    "__Замечание__: у логистической регрессии множество доступных значений для некоторых параметров зависит от метода оптимизации (solver). Например, lbfgs-алгоритм не подерживает l1-регуляризацию.\n",
    "\n",
    "Поэтому действуйте шагами: сначала подберите solver, а потом уже переберите доступные для него параметры."
   ]
  },
  {
   "cell_type": "code",
   "execution_count": 40,
   "id": "d5c67d54",
   "metadata": {},
   "outputs": [
    {
     "name": "stdout",
     "output_type": "stream",
     "text": [
      "0.6976361460203471\n"
     ]
    }
   ],
   "source": [
    "kylie_jenner = Pipeline(steps=[\n",
    "    ('regression', LogisticRegression(solver = 'liblinear'))\n",
    "])\n",
    "\n",
    "kylie_jenner.fit(X_train, y_train)\n",
    "\n",
    "y_repr = kylie_jenner.predict_proba(X_test)\n",
    "\n",
    "score = kylie_jenner.score(X_train, y_train)\n",
    "\n",
    "print(score)"
   ]
  },
  {
   "cell_type": "code",
   "execution_count": 41,
   "id": "c71a5c07",
   "metadata": {},
   "outputs": [],
   "source": [
    "# Код из семинара 9\n",
    "\n",
    "kylie_jenner = Pipeline(steps=[\n",
    "    ('regression', LogisticRegression(solver = 'liblinear'))\n",
    "])\n",
    "\n",
    "alphas = np.logspace(-2, 4, 20)\n",
    "\n",
    "searcher_kylie_jenner = GridSearchCV(kylie_jenner, [{\"regression__C\": alphas}],\n",
    "                        scoring=\"roc_auc\", cv=4, n_jobs=-1)\n",
    "searcher_kylie_jenner.fit(X_train, y_train)\n",
    "\n",
    "best_alpha = searcher_kylie_jenner.best_params_[\"regression__C\"]\n",
    "best_score = searcher_kylie_jenner.best_score_"
   ]
  },
  {
   "cell_type": "code",
   "execution_count": 42,
   "id": "f86cddbc",
   "metadata": {},
   "outputs": [
    {
     "name": "stdout",
     "output_type": "stream",
     "text": [
      "Best alpha = 29.7635\n",
      "Best score = 0.7900\n"
     ]
    },
    {
     "data": {
      "image/png": "[encoded data removed]",
      "text/plain": [
       "<Figure size 720x576 with 1 Axes>"
      ]
     },
     "metadata": {},
     "output_type": "display_data"
    }
   ],
   "source": [
    "print(\"Best alpha = %.4f\" % best_alpha)\n",
    "print(\"Best score = %.4f\" % best_score)\n",
    "\n",
    "plt.plot(alphas, searcher_kylie_jenner.cv_results_[\"mean_test_score\"])\n",
    "plt.xscale(\"log\")\n",
    "plt.xlabel(\"alpha\")\n",
    "plt.ylabel(\"CV score\");"
   ]
  },
  {
   "cell_type": "markdown",
   "id": "369628b6",
   "metadata": {},
   "source": [
    "#### Теперь попробуем перебрать всевозможные солверы и ограничители. Возможно, получится улучшить оценку"
   ]
  },
  {
   "cell_type": "code",
   "execution_count": 43,
   "id": "cdc7aaac",
   "metadata": {},
   "outputs": [],
   "source": [
    "# https://machinelearningmastery.com/hyperparameter-optimization-with-random-search-and-grid-search/\n",
    "kylie_jenner = LogisticRegression()\n",
    "\n",
    "space = dict()\n",
    "space['solver'] = ['newton-cg', 'lbfgs', 'liblinear', 'sag', 'saga']\n",
    "space['penalty'] = ['none', 'l1', 'l2', 'elasticnet']\n",
    "space['C'] = np.logspace(-2, 4, 20)\n",
    "\n",
    "searcher_kylie_jenner = GridSearchCV(kylie_jenner, space,\n",
    "                        scoring=\"roc_auc\", cv=4, n_jobs=-1)\n",
    "resutlt = searcher_kylie_jenner.fit(X_train, y_train)"
   ]
  },
  {
   "cell_type": "code",
   "execution_count": 44,
   "id": "a03628a0",
   "metadata": {},
   "outputs": [
    {
     "name": "stdout",
     "output_type": "stream",
     "text": [
      "Best Score: 0.7970070471979518\n",
      "Best Hyperparameters: {'C': 3.359818286283781, 'penalty': 'l1', 'solver': 'liblinear'}\n"
     ]
    }
   ],
   "source": [
    "print('Best Score: %s' % resutlt.best_score_)\n",
    "print('Best Hyperparameters: %s' % resutlt.best_params_)\n",
    "# Таким образом, будем использовать солвер liblinear и пенальти категории l1"
   ]
  },
  {
   "cell_type": "markdown",
   "id": "d6c296ef",
   "metadata": {},
   "source": [
    "Оцените качество лучшей модели на тестовых данных аналогично предыдущим задачам."
   ]
  },
  {
   "cell_type": "code",
   "execution_count": 45,
   "id": "a264b6ee",
   "metadata": {},
   "outputs": [],
   "source": [
    "kendall_jenner = LogisticRegression(C = 3.359818286283781, penalty = 'l1', solver = 'liblinear')\n",
    "kendall_jenner.fit(X_train, y_train)\n",
    "y_pred = kendall_jenner.predict_proba(X_test)\n",
    "first_pred = y_pred[:,1]"
   ]
  },
  {
   "cell_type": "code",
   "execution_count": 46,
   "id": "98fd07b4",
   "metadata": {},
   "outputs": [
    {
     "data": {
      "image/png": "[encoded data removed]",
      "text/plain": [
       "<Figure size 720x576 with 1 Axes>"
      ]
     },
     "metadata": {},
     "output_type": "display_data"
    }
   ],
   "source": [
    "#Построим Precision-Recall кривую\n",
    "pres, rec, ct = precision_recall_curve(y_test, first_pred)\n",
    "sns.set(rc={'figure.figsize':(10,8)})\n",
    "grabgh = sns.lineplot(rec, pres)\n",
    "grabgh.set(xlabel = 'Полнота', ylabel = 'Точность', title = 'Precision-Recall кривая')\n",
    "None"
   ]
  },
  {
   "cell_type": "code",
   "execution_count": 47,
   "id": "e73380e3",
   "metadata": {},
   "outputs": [
    {
     "name": "stdout",
     "output_type": "stream",
     "text": [
      "[0.81781377]\n",
      "[0.6474359]\n"
     ]
    }
   ],
   "source": [
    "# Найдем оптимальный показатель отсечения: точка, которая наиболее близко расположена к Recall = 1 и Precision = 1\n",
    "# Сделано это потому, что в данных не указано, какой именно показатель важнее, поэтому можно максимизировать оба и сразу\n",
    "unos = np.ones_like(pres)\n",
    "gipotenuza = sqrt((unos - pres) ** 2 + (unos - rec) ** 2)\n",
    "nomer = np.where(gipotenuza == gipotenuza.min())\n",
    "print(rec[nomer]) # оптимальное значение Recall\n",
    "print(pres[nomer]) # оптимальное значение Precision"
   ]
  },
  {
   "cell_type": "code",
   "execution_count": 48,
   "id": "d55f0d64",
   "metadata": {},
   "outputs": [
    {
     "data": {
      "image/png": "[encoded data removed]",
      "text/plain": [
       "<Figure size 720x576 with 1 Axes>"
      ]
     },
     "metadata": {},
     "output_type": "display_data"
    }
   ],
   "source": [
    "# Построим roc-auc кривую:\n",
    "sns.set(rc={'figure.figsize':(10,8)})\n",
    "fallspos, trupos, threshold = roc_curve(y_test, first_pred)\n",
    "score = round(roc_auc_score(y_test, first_pred),4)\n",
    "grabgh1 = sns.lineplot(fallspos, trupos, label = f'Логистическая регрессия, Roc-Auc = {score}')\n",
    "grabgh1.set(xlabel = 'False Positive Rate', ylabel = 'True Positive Rate', title = 'Roc-Auc Кривая')\n",
    "sns.lineplot([0, 1], [0, 1], label = \"Рандомный алгортим\", linestyle='--')\n",
    "None"
   ]
  },
  {
   "cell_type": "code",
   "execution_count": 49,
   "id": "2c775c08",
   "metadata": {},
   "outputs": [],
   "source": [
    "# Найдем оптимальный показатель отсечения: точка, которая наиболее близко расположена к TRP = 1\n",
    "unos = np.ones_like(fallspos)\n",
    "gipotenuza = sqrt((unos - trupos) ** 2 + fallspos ** 2)\n",
    "nomer = np.where(gipotenuza == gipotenuza.min())\n",
    "prohod = threshold[nomer] # получили порог, максимизирующий True Postitve Rate, то есть "
   ]
  },
  {
   "cell_type": "code",
   "execution_count": 50,
   "id": "f3290bf8",
   "metadata": {},
   "outputs": [
    {
     "data": {
      "text/plain": [
       "array([0.43892646])"
      ]
     },
     "execution_count": 50,
     "metadata": {},
     "output_type": "execute_result"
    }
   ],
   "source": [
    "prohod"
   ]
  },
  {
   "cell_type": "code",
   "execution_count": 51,
   "id": "f7a5e450",
   "metadata": {},
   "outputs": [
    {
     "data": {
      "image/png": "[encoded data removed]",
      "text/plain": [
       "<Figure size 720x576 with 2 Axes>"
      ]
     },
     "metadata": {},
     "output_type": "display_data"
    }
   ],
   "source": [
    "y_pred = 1*(first_pred >= prohod)\n",
    "config = confusion_matrix(y_test, y_pred)\n",
    "metr = metrics.ConfusionMatrixDisplay(confusion_matrix = config, display_labels = kendall_jenner.classes_)\n",
    "metr.plot()\n",
    "plt.grid(b=None)\n",
    "None"
   ]
  },
  {
   "cell_type": "code",
   "execution_count": 52,
   "id": "ca93910b",
   "metadata": {},
   "outputs": [
    {
     "name": "stdout",
     "output_type": "stream",
     "text": [
      "Accuracy score: 0.7356459330143541 \n",
      " \n",
      " Accuracy score с нулями: 0.5400717703349283 \n",
      " \n",
      " Precision score: 0.694408322496749 \n",
      " \n",
      " Recall score: 0.7206477732793523 \n",
      " \n",
      "\n"
     ]
    }
   ],
   "source": [
    "print(f'Accuracy score: {accuracy_score(y_test, y_pred)}', '\\n', '\\n',\n",
    "      f'Accuracy score с нулями: {accuracy_score(np.zeros_like(y_test), y_pred)}', '\\n', '\\n',\n",
    "      f'Precision score: {precision_score(y_test, y_pred)}', '\\n', '\\n',\n",
    "     f'Recall score: {recall_score(y_test, y_pred)}', '\\n', '\\n')"
   ]
  },
  {
   "cell_type": "markdown",
   "id": "cbe6bf72",
   "metadata": {},
   "source": [
    "### Также для более интуитивно понятного сравнения проведем анализ, используя крайне неоптимальный порог 0.5 и сравиним результаты с предыдущим пунктом:"
   ]
  },
  {
   "cell_type": "code",
   "execution_count": 53,
   "id": "cf27e671",
   "metadata": {},
   "outputs": [
    {
     "data": {
      "image/png": "[encoded data removed]",
      "text/plain": [
       "<Figure size 720x576 with 2 Axes>"
      ]
     },
     "metadata": {},
     "output_type": "display_data"
    }
   ],
   "source": [
    "y_pred = 1*(first_pred >= 0.5)\n",
    "config = confusion_matrix(y_test, y_pred)\n",
    "metr = metrics.ConfusionMatrixDisplay(confusion_matrix = config, display_labels = kendall_jenner.classes_)\n",
    "metr.plot()\n",
    "plt.grid(b=None)\n",
    "None"
   ]
  },
  {
   "cell_type": "code",
   "execution_count": 54,
   "id": "d424d776",
   "metadata": {},
   "outputs": [
    {
     "name": "stdout",
     "output_type": "stream",
     "text": [
      "Accuracy score: 0.7410287081339713 \n",
      " \n",
      " Accuracy score с нулями: 0.6985645933014354 \n",
      " \n",
      " Precision score: 0.8055555555555556 \n",
      " \n",
      " Recall score: 0.5479082321187584 \n",
      " \n",
      "\n"
     ]
    }
   ],
   "source": [
    "print(f'Accuracy score: {accuracy_score(y_test, y_pred)}', '\\n', '\\n',\n",
    "      f'Accuracy score с нулями: {accuracy_score(np.zeros_like(y_test), y_pred)}', '\\n', '\\n',\n",
    "      f'Precision score: {precision_score(y_test, y_pred)}', '\\n', '\\n',\n",
    "     f'Recall score: {recall_score(y_test, y_pred)}', '\\n', '\\n')"
   ]
  },
  {
   "cell_type": "markdown",
   "id": "a5f49648",
   "metadata": {},
   "source": [
    "Получилось ли добиться лучше качества при подборе параметров?\n",
    "Почему так? \n",
    "\n",
    "Для чего мы использовали одновременно кросс-валидацию и отложенную тестовую выборку?\n",
    "\n",
    "__Ваш вывод__:"
   ]
  },
  {
   "cell_type": "markdown",
   "id": "cf3d98f6",
   "metadata": {},
   "source": [
    "* Было: Accuracy = 0.74, Precision = 0.74, Recall = 0.63, ROC-AUC = 0.8\n",
    "* Стало: Accuracy = 0.74, Precision = 0.81, Recall = 0.55, ROC-AUC = 0.82\n",
    "* **Таким образом, значительного улучшения подбор параметров не принес. Однако если сравнивать прошлый пункт с позоброшлым - то есть там, где происходило изменение формата данных - относительно того серьезного изменения проведенный гридсерч никакой пользы не привнес"
   ]
  },
  {
   "cell_type": "markdown",
   "id": "f98026f0",
   "metadata": {},
   "source": [
    "Кросс-валидация используется для того, чтобы нивелировать эффект неравномерности распределения признаков в выборке, то есть даже если в случае одной неудачной случайности разделения данный на тренировочную и тестовую было еще 3 других фолда, которые в общей картине могли скомпенсировать и усреднить итоговые оптимальные параметры модели (чтобы она и не переучилась, и чтобы достаточно равномерно отражала показатели обучающей выборки для лучших тестовых результатов.\n",
    "\n",
    "Таким образом, на обучающей выборке после 4 перестановок формируется оптимальная усредненная модель с показателями, которая предположительно должна лучше всего себя показать на тестовой и предотвратить \"неслучайной\" train-test splita"
   ]
  },
  {
   "cell_type": "markdown",
   "id": "4db51ec9",
   "metadata": {},
   "source": [
    "## Подбор отсечения [5 баллов]"
   ]
  },
  {
   "cell_type": "markdown",
   "id": "9b9d5678",
   "metadata": {},
   "source": [
    "Ранее мы работали или с вероятностями из модели или с метками, полученных при отсечении по веростности с порогом 0.5.\n",
    "\n",
    "Стоит сказать, что порог 0.5 для разделения классов не всегда самый лучший. Часто нам нужно так подобрать порог, чтобы удовлетворить наши требования по точности и полноте.\n",
    "\n",
    "Давайте подберём порог, который максимизирует F_beta меру при условии, что нам полнота в 5 раз важнее точности.\n",
    "\n",
    "Вычислите наилучший порог и нарисуйте график зависимости этой метрики от порога разделения."
   ]
  },
  {
   "cell_type": "code",
   "execution_count": 55,
   "id": "a61bcc3b",
   "metadata": {},
   "outputs": [],
   "source": [
    "x2 = np.linspace(0,1, 10**5)\n",
    "sumting = np.array([])"
   ]
  },
  {
   "cell_type": "code",
   "execution_count": 56,
   "id": "6133e980",
   "metadata": {},
   "outputs": [
    {
     "name": "stderr",
     "output_type": "stream",
     "text": [
      "100%|██████████| 100000/100000 [01:31<00:00, 1088.43it/s]\n"
     ]
    }
   ],
   "source": [
    "# В предыдущих пунктов для поиска оптимального порога отсечения использовалась roc-auc кривая. В этом пункте будем использовать\n",
    "# другую метрику - f_beta score\n",
    "from tqdm import tqdm\n",
    "for i in tqdm(x2):\n",
    "    y_pred = 1*(first_pred >= i)\n",
    "    f = fbeta_score(y_test, y_pred, beta=sqrt(5))\n",
    "    sumting = np.append(sumting, f)\n",
    "# ну gridsearch тоже долго выполнялся"
   ]
  },
  {
   "cell_type": "code",
   "execution_count": 57,
   "id": "35743e80",
   "metadata": {},
   "outputs": [],
   "source": [
    "bochka = dict()\n",
    "bochka['Максимальный порог'] = [x2[sumting.argmax()]]\n",
    "bochka['Максимальное значение f-beta score'] = [sumting.max()]\n",
    "bochka = pd.DataFrame(bochka)"
   ]
  },
  {
   "cell_type": "code",
   "execution_count": 58,
   "id": "c68062ab",
   "metadata": {},
   "outputs": [
    {
     "name": "stdout",
     "output_type": "stream",
     "text": [
      "Оптимальный порог отсечения в модели равен 0.23288232882328824\n",
      "Оптимальная оценка f-beta 0.8448207955888145\n"
     ]
    },
    {
     "data": {
      "image/png": "[encoded data removed]",
      "text/plain": [
       "<Figure size 720x576 with 1 Axes>"
      ]
     },
     "metadata": {},
     "output_type": "display_data"
    }
   ],
   "source": [
    "print('Оптимальный порог отсечения в модели равен %s' % x2[sumting.argmax()])\n",
    "print('Оптимальная оценка f-beta %s' % sumting.max())\n",
    "kachan = sns.lineplot(x = x2, y = sumting)\n",
    "kachan.set(xlabel = 'Значение порога', ylabel = 'F-beta score (beta = 2.236)', title = 'Кривая зависимости f-beta score от значения порога отсечения')\n",
    "kachan.scatter(data = bochka, x = 'Максимальный порог', y = 'Максимальное значение f-beta score', s = 30, color = 'green')\n",
    "kachan.legend()\n",
    "None"
   ]
  },
  {
   "cell_type": "markdown",
   "id": "9692dde3",
   "metadata": {},
   "source": [
    "## Интерпретация модели [5 баллов]"
   ]
  },
  {
   "cell_type": "markdown",
   "id": "fda297e1",
   "metadata": {},
   "source": [
    "Часто нам хочется интерпритировать предсказания модели - понять, как наши признаки влияют на её ответ.\n",
    "В случае сложных моделей сделать это не просто - чем сложнее модель, тем более сложные закономерности она извлекает и тем тяжелее нам их понять.\n",
    "\n",
    "Но в случае логистической регресии это просто сделать, посмотрев на её обучаемые параметры (вспоминайте!).\n",
    "\n",
    "Получите список признаков, которые увеличивают вероятность метки 0.\n",
    "Аналогично для метки 1."
   ]
  },
  {
   "cell_type": "code",
   "execution_count": 59,
   "id": "2625f3ef",
   "metadata": {
    "scrolled": false
   },
   "outputs": [],
   "source": [
    "# kendall_jenner.coef_, kendall_jenner.intercept_\n",
    "boba = pd.DataFrame(np.hstack((feature_names.reshape(184,1), kendall_jenner.coef_.reshape(184,1))))"
   ]
  },
  {
   "cell_type": "code",
   "execution_count": 60,
   "id": "f05fc166",
   "metadata": {},
   "outputs": [
    {
     "data": {
      "image/png": "[encoded data removed]",
      "text/plain": [
       "<Figure size 720x576 with 1 Axes>"
      ]
     },
     "metadata": {},
     "output_type": "display_data"
    }
   ],
   "source": [
    "plt.hist(kendall_jenner.coef_.tolist())\n",
    "None\n",
    "# Положительные коэффициенты предсказывают метку 1, в то время как отрицательные - метку 0"
   ]
  },
  {
   "cell_type": "code",
   "execution_count": 61,
   "id": "3f0d0279",
   "metadata": {},
   "outputs": [
    {
     "name": "stdout",
     "output_type": "stream",
     "text": [
      "Авиалинии, авиакомпании; Автозапчасти и аксессуары; Автоматизированные бензозаправки; Автомойки; Автошины; Агентства по аренде автомобилей; Бакалейные магазины, супермаркеты; Бары, коктейль-бары, дискотеки, ночные клубы и таверны — места продажи алкогольных напитков; Беспошлинные магазины Duty Free; Билльярд-клубы; Булочные; Бытовое оборудование; Веломагазины — продажа и обслуживание; Видеопрокат; Галереи и художественные посредники; Галереи/учреждения видеоигр; Генеральные подрядчики по вентиляции, теплоснабжению, и водопроводу; Горючее топливо — уголь, нефть, разжиженный бензин, дрова; Денежные переводы MasterCard MoneySend; Жилье — отели, мотели, курорты; Иной сервис; Информационные провайдеры; Кабельные и другие платные телевизионные услуги; Канцелярия, офисные сопутствующие товары, бумага для печатания и письма; Кинотеатры; Клубы — сельские клубы, членство(спортивный, отдых, спорт), частные поля для гольфа; Книжные магазины; Компьютерная сеть/информационные услуги; Компьютеры, периферийное компьютерное оборудование, программное обеспечение; Легковой и грузовой транспорт — продажа, сервис, ремонт, запчасти и лизинг; Лесо- и строительный материал; Магазины с продажей спиртных напитков на вынос (пиво, вино и ликер); Магазины спорттоваров; Магазины фотооборудования и фотоприборов; Места общественного питания, рестораны; Мужская одежда и аксессуары, включая одежду для мальчиков; Мужская, женская и детская спец-одежда; Не-финансовые институты — иностранная валюта, денежные переводы (непередаваемые), дорожные чеки, квази-кэш; Оборудование для водопровода и отопительной системы; Оборудование и сопутствующие материалы для технического обеспечения; Оборудование, мебель и бытовые принадлежности (кроме электрооборудования); Оптика, оптические товары и очки; Офисное, фотографическое, фотокопировальное, и микрофильмирующее оборудование; Плавательные бассейны — распродажа; Подрядчики по электричеству; Подрядчики, специализированная торговля — нигде более не классифицированные; Покрытия для пола; Поставщики грузовиков и запчастей; Поставщики провизии; Правительственные услуги, нигде ранее не классифицируемые; Программирование, обработка данных, интегрированные системы, дизайн; Продажа компьютерного программного обеспечения; Продажа молочных продуктов в розницу; Продажа мотоциклов; Продажа музыкальных инструментов, фортепиано, нот; Продажа снегоходов; Продажа страхования, гарантированное размещение, премии; Продажа электронного оборудования; Прямой маркетинг — входящий телемаркетинг; Прямой маркетинг — торговые точки подписки; Различные продовольственные магазины — рынки, магазины со спец-ассортиментом, продажа полуфабрикатов, фирменных блюд, продажа с помощью торговых автоматов; Различные специализированные магазины бытовых принадлежностей; Различные товары общего назначения; Разнообразные издательства/печатное дело; Рестораны, закусочные; СТО общего назначения; Садовые принадлежности (в том числе для ухода за газонами) в розницу; Скобяные товары в розницу; Спортивная одежда, одежда для верховой езды и езды на мотоцикле; Станции техобслуживания; Стоматологическое/лабороторное/медицинское/офтальмологическое стационарное оборудование и устройства; Строительные материалы — нигде более не классифицированные; Телекоммуникационное оборудование, включая продажу телефонов; Товары недлительного пользования, не классифицированные ранее; Транзакции по азартным играм; Транспортировка — пригородные и локальные сезонные транспортные средства, включая электрички; Универмаги; Услуги курьера — по воздуху и на земле, агентство по отправке грузов; Финансовые институты — снятие наличности автоматически; Финансовые институты — торговля и услуги; Флористика; Фотостудии; Химчистки; Ценные бумаги: брокеры/дилеры; Школы — бизнес и секретарей; Штрафы; Электрические части и оборудование\n"
     ]
    }
   ],
   "source": [
    "# Признаки, которые увеличивают вероятности метки 1\n",
    "first_priznak = boba[boba[1] > 0][0].values\n",
    "print(*first_priznak, sep = \"; \")"
   ]
  },
  {
   "cell_type": "code",
   "execution_count": 62,
   "id": "038fb07e",
   "metadata": {},
   "outputs": [
    {
     "name": "stdout",
     "output_type": "stream",
     "text": [
      "Агентства по автотранспортным перевозкам, местные/дальные автогрузоперевозки, компании попереезду и хранению, местная доставка; Аксессуары для женщин; Аптеки; Ветеринарные услуги; Готовая женская одежда; Дантисты, ортодонтисты; Денежные переводы; Звонки с использованием телефонов, считывающих магнитную ленту; Зоомагазины; Зубные и медицинские лаборатории; Изготовление и продажа меховых изделий; Коммунальные услуги — электричество, газ, санитария, вода; Лекарства, их распространители, аптеки; Магазины second hand, магазины б/у товаров, комиссионки; Магазины косметики; Магазины мужской и женской одежды; Магазины открыток, подарков, новинок и сувениров; Магазины офисных, школьных принадлежностей, канцтоваров; Магазины по продаже часов, ювелирных изделий и изделий из серебра; Магазины ткани, ниток рукоделия, шитья; Магазины хрусталя и изделий из стекла; Магазины художественных и ремесленных изделий; Магазины, торгующие по сниженным ценам; Нефть и нефтепродукты; Образовательные услуги; Одежда для всей семьи; Организации благотворительные и общественные службы; Почтовые услуги — только правительство; Практикующие врачи, медицинские услуги, нигде ранее не классифицируемые; Производство и дистрибуция видеофильмов; Профессиональные услуги, нигде ранее не классифицируемые; Прямой маркетинг — комбинированный каталог и торговцы в розницу; Прямой маркетинг — торговля через каталог; Различные магазины одежды и аксессуаров; Рекламные услуги; Ремонт бытовой техники, ремонт электроприборы; Салоты красоты и парикмахерские; Службы знакомств; Ткани, обивочный материал, гардины и портьеры, жалюзи; Товары длительного пользования — нигде более не классифицированные; Туристические аттракционы и шоу; Универсальные магазины; Услуги копировальных центров; Услуги отдыха, нигде ранее не классифицируемые; Финансовые институты — снятие наличности вручную; Фотостудии, фотолаборатории; Химикалии и смежные вещества, не классифицированные ранее; Центры здоровья\n"
     ]
    }
   ],
   "source": [
    "# Признаки, которые увеличивают вероятности метки 0\n",
    "zero_priznak = boba[boba[1] < 0][0].values\n",
    "print(*zero_priznak, sep = \"; \")"
   ]
  },
  {
   "cell_type": "markdown",
   "id": "93723beb",
   "metadata": {},
   "source": [
    "# Часть 4: ва-банк / пространство для творчества [макс 30 баллов]"
   ]
  },
  {
   "cell_type": "markdown",
   "id": "97dc0173",
   "metadata": {},
   "source": [
    "Добейтесь максимального качества, больше качество - больше баллов.\n",
    "\n",
    "Стратегия подготовки данных и обучения модели на ваше усмотрение.\n",
    "\n",
    "Условия:\n",
    "* Оценка на отложенной тестовой группе пользователей, использовавшейся в прошлых пунктах (20%)\n",
    "* В качестве метрики используйте ROC_AUC\n",
    "\n",
    "__Замечание__: \n",
    "\n",
    "Ответа на вопрос \"какое нужно качество для максимального балла?\" не будет.\n",
    "\n",
    "Используйте все свои знания, чтобы добиться наилучшего результата."
   ]
  },
  {
   "cell_type": "code",
   "execution_count": 63,
   "id": "da6af35c",
   "metadata": {},
   "outputs": [
    {
     "data": {
      "text/html": [
       "<div>\n",
       "<style scoped>\n",
       "    .dataframe tbody tr th:only-of-type {\n",
       "        vertical-align: middle;\n",
       "    }\n",
       "\n",
       "    .dataframe tbody tr th {\n",
       "        vertical-align: top;\n",
       "    }\n",
       "\n",
       "    .dataframe thead th {\n",
       "        text-align: right;\n",
       "    }\n",
       "</style>\n",
       "<table border=\"1\" class=\"dataframe\">\n",
       "  <thead>\n",
       "    <tr style=\"text-align: right;\">\n",
       "      <th></th>\n",
       "      <th>user_id</th>\n",
       "      <th>dt</th>\n",
       "      <th>type</th>\n",
       "      <th>value</th>\n",
       "      <th>gender</th>\n",
       "    </tr>\n",
       "  </thead>\n",
       "  <tbody>\n",
       "    <tr>\n",
       "      <th>0</th>\n",
       "      <td>39026145</td>\n",
       "      <td>0 10:23:26</td>\n",
       "      <td>Звонки с использованием телефонов, считывающих...</td>\n",
       "      <td>2695.099</td>\n",
       "      <td>1.0</td>\n",
       "    </tr>\n",
       "    <tr>\n",
       "      <th>1</th>\n",
       "      <td>39026145</td>\n",
       "      <td>6 07:08:31</td>\n",
       "      <td>Звонки с использованием телефонов, считывающих...</td>\n",
       "      <td>2358.212</td>\n",
       "      <td>1.0</td>\n",
       "    </tr>\n",
       "    <tr>\n",
       "      <th>2</th>\n",
       "      <td>39026145</td>\n",
       "      <td>8 07:06:10</td>\n",
       "      <td>Звонки с использованием телефонов, считывающих...</td>\n",
       "      <td>2807.395</td>\n",
       "      <td>1.0</td>\n",
       "    </tr>\n",
       "    <tr>\n",
       "      <th>3</th>\n",
       "      <td>39026145</td>\n",
       "      <td>11 08:49:03</td>\n",
       "      <td>Звонки с использованием телефонов, считывающих...</td>\n",
       "      <td>2695.099</td>\n",
       "      <td>1.0</td>\n",
       "    </tr>\n",
       "    <tr>\n",
       "      <th>4</th>\n",
       "      <td>39026145</td>\n",
       "      <td>11 14:12:08</td>\n",
       "      <td>Звонки с использованием телефонов, считывающих...</td>\n",
       "      <td>2695.099</td>\n",
       "      <td>1.0</td>\n",
       "    </tr>\n",
       "  </tbody>\n",
       "</table>\n",
       "</div>"
      ],
      "text/plain": [
       "    user_id           dt                                               type  \\\n",
       "0  39026145   0 10:23:26  Звонки с использованием телефонов, считывающих...   \n",
       "1  39026145   6 07:08:31  Звонки с использованием телефонов, считывающих...   \n",
       "2  39026145   8 07:06:10  Звонки с использованием телефонов, считывающих...   \n",
       "3  39026145  11 08:49:03  Звонки с использованием телефонов, считывающих...   \n",
       "4  39026145  11 14:12:08  Звонки с использованием телефонов, считывающих...   \n",
       "\n",
       "      value  gender  \n",
       "0  2695.099     1.0  \n",
       "1  2358.212     1.0  \n",
       "2  2807.395     1.0  \n",
       "3  2695.099     1.0  \n",
       "4  2695.099     1.0  "
      ]
     },
     "execution_count": 63,
     "metadata": {},
     "output_type": "execute_result"
    }
   ],
   "source": [
    "trans = pd.read_csv(\"transactions.csv\", sep = \";\")\n",
    "gen = pd.read_csv(\"gender.csv\")\n",
    "trans = trans.merge(gen, how='left', on='user_id')\n",
    "trans.head()"
   ]
  },
  {
   "cell_type": "code",
   "execution_count": 64,
   "id": "238136e5",
   "metadata": {},
   "outputs": [
    {
     "data": {
      "image/png": "[encoded data removed]",
      "text/plain": [
       "<Figure size 720x576 with 1 Axes>"
      ]
     },
     "metadata": {},
     "output_type": "display_data"
    }
   ],
   "source": [
    "plt.hist(trans['value'])\n",
    "None"
   ]
  },
  {
   "cell_type": "code",
   "execution_count": 65,
   "id": "fc543d75",
   "metadata": {},
   "outputs": [],
   "source": [
    "epic_minecraft = pd.pivot_table(trans,\n",
    "                values = ['value'],\n",
    "               index=['user_id'],\n",
    "               columns=['type'],\n",
    "               aggfunc=np.sum, fill_value=0)\n",
    "epic_minecraft.columns = epic_minecraft.columns.droplevel([0])\n",
    "epic_minecraft = epic_minecraft.merge(gen, how='left', on='user_id')"
   ]
  },
  {
   "cell_type": "code",
   "execution_count": 66,
   "id": "fd36fde0",
   "metadata": {},
   "outputs": [],
   "source": [
    "epic_minecraft = epic_minecraft.set_index('user_id')\n",
    "epic_y = epic_minecraft[\"gender\"]\n",
    "epic_x = epic_minecraft.drop(columns=[\"gender\"])\n",
    "feature_names = epic_x.columns.values"
   ]
  },
  {
   "cell_type": "code",
   "execution_count": 100,
   "id": "e68c5b68",
   "metadata": {},
   "outputs": [],
   "source": [
    "#отминимаксим категории покупок\n",
    "min_max_scaler = preprocessing.MinMaxScaler()\n",
    "epic_x_norm = min_max_scaler.fit_transform(epic_x)\n",
    "epic_x_norm = pd.DataFrame(epic_x_norm, columns = feature_names)"
   ]
  },
  {
   "cell_type": "code",
   "execution_count": 68,
   "id": "794be993",
   "metadata": {},
   "outputs": [],
   "source": [
    "#количество покупок, также отминимаксим - создание нового признака\n",
    "mokko = trans['user_id'].value_counts().to_frame().reset_index()\n",
    "mokko.rename(columns = {'index' : 'user_id', 'user_id' : 'transactions'}, inplace = True)\n",
    "mokko = mokko.sort_values(by = 'user_id', ascending=True)\n",
    "mokko = mokko.set_index('user_id')\n",
    "mokko_norm = min_max_scaler.fit_transform(mokko)\n",
    "mokko_norm = pd.DataFrame(mokko_norm, columns = ['transactions'])"
   ]
  },
  {
   "cell_type": "code",
   "execution_count": 69,
   "id": "16d5545a",
   "metadata": {},
   "outputs": [],
   "source": [
    "# Создадим признак: в какое время суток - утреннее время, дневное, вечернее или ночное - совершались покупки одним индивидом\n",
    "kabachok = pd.DataFrame()\n",
    "kabachok[[\"day\", \"time\"]] = trans[\"dt\"].str.split(' ',expand=True)\n",
    "kabachok[\"time\"] = pd.to_datetime(kabachok[\"time\"], format='%H:%M:%S')"
   ]
  },
  {
   "cell_type": "code",
   "execution_count": 70,
   "id": "fcee5918",
   "metadata": {},
   "outputs": [],
   "source": [
    "kabachok[\"utro\"] = np.where((kabachok[\"time\"].dt.hour >= 6) & (kabachok[\"time\"].dt.hour <= 12), 1,0)\n",
    "kabachok[\"day\"] = np.where((kabachok[\"time\"].dt.hour > 12) & (kabachok[\"time\"].dt.hour <= 16),1,0)\n",
    "kabachok[\"evening\"] = np.where((kabachok[\"time\"].dt.hour > 16) & (kabachok[\"time\"].dt.hour <= 22),1,0)\n",
    "kabachok[\"night\"] = np.where((kabachok[\"time\"].dt.hour > 22) | (kabachok[\"time\"].dt.hour < 6),1,0)"
   ]
  },
  {
   "cell_type": "code",
   "execution_count": 71,
   "id": "62a7cd38",
   "metadata": {},
   "outputs": [],
   "source": [
    "kabachok = kabachok.drop([\"time\"], axis = 1)"
   ]
  },
  {
   "cell_type": "code",
   "execution_count": 72,
   "id": "1cde0e0d",
   "metadata": {},
   "outputs": [],
   "source": [
    "mister = trans['user_id'].to_frame().join(kabachok)\n",
    "mister = mister.groupby(\"user_id\")[\"day\",\"utro\",\"evening\",\"night\"].sum() \n",
    "# создали датафремй с данными о количестве транзакций, совершенных человеком в каждое время суток"
   ]
  },
  {
   "cell_type": "code",
   "execution_count": 73,
   "id": "bc6a1e3b",
   "metadata": {},
   "outputs": [
    {
     "data": {
      "image/png": "[encoded data removed]",
      "text/plain": [
       "<Figure size 720x576 with 1 Axes>"
      ]
     },
     "metadata": {},
     "output_type": "display_data"
    }
   ],
   "source": [
    "plt.hist(mister[\"night\"])\n",
    "None"
   ]
  },
  {
   "cell_type": "code",
   "execution_count": 74,
   "id": "f686a4b8",
   "metadata": {},
   "outputs": [],
   "source": [
    "mister_norm = min_max_scaler.fit_transform(mister)\n",
    "mister_norm = pd.DataFrame(mister_norm, columns = ['utro', 'day', 'evening','night'])"
   ]
  },
  {
   "cell_type": "code",
   "execution_count": 101,
   "id": "72082ed5",
   "metadata": {},
   "outputs": [],
   "source": [
    "epic_x_norm = epic_x_norm.join(mister_norm)"
   ]
  },
  {
   "cell_type": "code",
   "execution_count": 91,
   "id": "1304e27a",
   "metadata": {},
   "outputs": [],
   "source": [
    "#epic_x_norm = epic_x_norm.join(mokko_norm)"
   ]
  },
  {
   "cell_type": "code",
   "execution_count": 102,
   "id": "fce4faac",
   "metadata": {},
   "outputs": [
    {
     "data": {
      "text/html": [
       "<div>\n",
       "<style scoped>\n",
       "    .dataframe tbody tr th:only-of-type {\n",
       "        vertical-align: middle;\n",
       "    }\n",
       "\n",
       "    .dataframe tbody tr th {\n",
       "        vertical-align: top;\n",
       "    }\n",
       "\n",
       "    .dataframe thead th {\n",
       "        text-align: right;\n",
       "    }\n",
       "</style>\n",
       "<table border=\"1\" class=\"dataframe\">\n",
       "  <thead>\n",
       "    <tr style=\"text-align: right;\">\n",
       "      <th></th>\n",
       "      <th>Авиалинии, авиакомпании</th>\n",
       "      <th>Авиалинии, авиакомпании, нигде более не классифицированные</th>\n",
       "      <th>Автобусные линии</th>\n",
       "      <th>Автозапчасти и аксессуары</th>\n",
       "      <th>Автоматизированные бензозаправки</th>\n",
       "      <th>Автомойки</th>\n",
       "      <th>Автошины</th>\n",
       "      <th>Агентства по автотранспортным перевозкам, местные/дальные автогрузоперевозки, компании попереезду и хранению, местная доставка</th>\n",
       "      <th>Агентства по аренде автомобилей</th>\n",
       "      <th>Агенты и менеджеры по аренде недвижимости</th>\n",
       "      <th>...</th>\n",
       "      <th>Центры здоровья</th>\n",
       "      <th>Цифровые товары, игры</th>\n",
       "      <th>Школы — бизнес и секретарей</th>\n",
       "      <th>Штрафы</th>\n",
       "      <th>Штучные товары, галантерея и другие текстильные товары</th>\n",
       "      <th>Электрические части и оборудование</th>\n",
       "      <th>utro</th>\n",
       "      <th>day</th>\n",
       "      <th>evening</th>\n",
       "      <th>night</th>\n",
       "    </tr>\n",
       "  </thead>\n",
       "  <tbody>\n",
       "    <tr>\n",
       "      <th>0</th>\n",
       "      <td>0.0</td>\n",
       "      <td>0.0</td>\n",
       "      <td>0.0</td>\n",
       "      <td>0.0</td>\n",
       "      <td>0.0</td>\n",
       "      <td>0.0</td>\n",
       "      <td>0.0</td>\n",
       "      <td>0.0</td>\n",
       "      <td>0.0</td>\n",
       "      <td>0.0</td>\n",
       "      <td>...</td>\n",
       "      <td>0.0</td>\n",
       "      <td>0.0</td>\n",
       "      <td>0.0</td>\n",
       "      <td>0.0</td>\n",
       "      <td>0.0</td>\n",
       "      <td>0.0</td>\n",
       "      <td>0.009465</td>\n",
       "      <td>0.012414</td>\n",
       "      <td>0.019658</td>\n",
       "      <td>0.007634</td>\n",
       "    </tr>\n",
       "    <tr>\n",
       "      <th>1</th>\n",
       "      <td>0.0</td>\n",
       "      <td>0.0</td>\n",
       "      <td>0.0</td>\n",
       "      <td>0.0</td>\n",
       "      <td>0.0</td>\n",
       "      <td>0.0</td>\n",
       "      <td>0.0</td>\n",
       "      <td>0.0</td>\n",
       "      <td>0.0</td>\n",
       "      <td>0.0</td>\n",
       "      <td>...</td>\n",
       "      <td>0.0</td>\n",
       "      <td>0.0</td>\n",
       "      <td>0.0</td>\n",
       "      <td>0.0</td>\n",
       "      <td>0.0</td>\n",
       "      <td>0.0</td>\n",
       "      <td>0.006507</td>\n",
       "      <td>0.008828</td>\n",
       "      <td>0.005707</td>\n",
       "      <td>0.001145</td>\n",
       "    </tr>\n",
       "    <tr>\n",
       "      <th>2</th>\n",
       "      <td>0.0</td>\n",
       "      <td>0.0</td>\n",
       "      <td>0.0</td>\n",
       "      <td>0.0</td>\n",
       "      <td>0.0</td>\n",
       "      <td>0.0</td>\n",
       "      <td>0.0</td>\n",
       "      <td>0.0</td>\n",
       "      <td>0.0</td>\n",
       "      <td>0.0</td>\n",
       "      <td>...</td>\n",
       "      <td>0.0</td>\n",
       "      <td>0.0</td>\n",
       "      <td>0.0</td>\n",
       "      <td>0.0</td>\n",
       "      <td>0.0</td>\n",
       "      <td>0.0</td>\n",
       "      <td>0.004141</td>\n",
       "      <td>0.015172</td>\n",
       "      <td>0.001268</td>\n",
       "      <td>0.021374</td>\n",
       "    </tr>\n",
       "    <tr>\n",
       "      <th>3</th>\n",
       "      <td>0.0</td>\n",
       "      <td>0.0</td>\n",
       "      <td>0.0</td>\n",
       "      <td>0.0</td>\n",
       "      <td>0.0</td>\n",
       "      <td>0.0</td>\n",
       "      <td>0.0</td>\n",
       "      <td>0.0</td>\n",
       "      <td>0.0</td>\n",
       "      <td>0.0</td>\n",
       "      <td>...</td>\n",
       "      <td>0.0</td>\n",
       "      <td>0.0</td>\n",
       "      <td>0.0</td>\n",
       "      <td>0.0</td>\n",
       "      <td>0.0</td>\n",
       "      <td>0.0</td>\n",
       "      <td>0.021591</td>\n",
       "      <td>0.028414</td>\n",
       "      <td>0.081167</td>\n",
       "      <td>0.001908</td>\n",
       "    </tr>\n",
       "    <tr>\n",
       "      <th>4</th>\n",
       "      <td>0.0</td>\n",
       "      <td>0.0</td>\n",
       "      <td>0.0</td>\n",
       "      <td>0.0</td>\n",
       "      <td>0.0</td>\n",
       "      <td>0.0</td>\n",
       "      <td>0.0</td>\n",
       "      <td>0.0</td>\n",
       "      <td>0.0</td>\n",
       "      <td>0.0</td>\n",
       "      <td>...</td>\n",
       "      <td>0.0</td>\n",
       "      <td>0.0</td>\n",
       "      <td>0.0</td>\n",
       "      <td>0.0</td>\n",
       "      <td>0.0</td>\n",
       "      <td>0.0</td>\n",
       "      <td>0.052943</td>\n",
       "      <td>0.052690</td>\n",
       "      <td>0.107800</td>\n",
       "      <td>0.041603</td>\n",
       "    </tr>\n",
       "  </tbody>\n",
       "</table>\n",
       "<p>5 rows × 188 columns</p>\n",
       "</div>"
      ],
      "text/plain": [
       "   Авиалинии, авиакомпании  \\\n",
       "0                      0.0   \n",
       "1                      0.0   \n",
       "2                      0.0   \n",
       "3                      0.0   \n",
       "4                      0.0   \n",
       "\n",
       "   Авиалинии, авиакомпании, нигде более не классифицированные  \\\n",
       "0                                                0.0            \n",
       "1                                                0.0            \n",
       "2                                                0.0            \n",
       "3                                                0.0            \n",
       "4                                                0.0            \n",
       "\n",
       "   Автобусные линии  Автозапчасти и аксессуары  \\\n",
       "0               0.0                        0.0   \n",
       "1               0.0                        0.0   \n",
       "2               0.0                        0.0   \n",
       "3               0.0                        0.0   \n",
       "4               0.0                        0.0   \n",
       "\n",
       "   Автоматизированные бензозаправки  Автомойки  Автошины  \\\n",
       "0                               0.0        0.0       0.0   \n",
       "1                               0.0        0.0       0.0   \n",
       "2                               0.0        0.0       0.0   \n",
       "3                               0.0        0.0       0.0   \n",
       "4                               0.0        0.0       0.0   \n",
       "\n",
       "   Агентства по автотранспортным перевозкам, местные/дальные автогрузоперевозки, компании попереезду и хранению, местная доставка  \\\n",
       "0                                                0.0                                                                                \n",
       "1                                                0.0                                                                                \n",
       "2                                                0.0                                                                                \n",
       "3                                                0.0                                                                                \n",
       "4                                                0.0                                                                                \n",
       "\n",
       "   Агентства по аренде автомобилей  Агенты и менеджеры по аренде недвижимости  \\\n",
       "0                              0.0                                        0.0   \n",
       "1                              0.0                                        0.0   \n",
       "2                              0.0                                        0.0   \n",
       "3                              0.0                                        0.0   \n",
       "4                              0.0                                        0.0   \n",
       "\n",
       "   ...  Центры здоровья  Цифровые товары, игры  Школы — бизнес и секретарей  \\\n",
       "0  ...              0.0                    0.0                          0.0   \n",
       "1  ...              0.0                    0.0                          0.0   \n",
       "2  ...              0.0                    0.0                          0.0   \n",
       "3  ...              0.0                    0.0                          0.0   \n",
       "4  ...              0.0                    0.0                          0.0   \n",
       "\n",
       "   Штрафы  Штучные товары, галантерея и другие текстильные товары  \\\n",
       "0     0.0                                                0.0        \n",
       "1     0.0                                                0.0        \n",
       "2     0.0                                                0.0        \n",
       "3     0.0                                                0.0        \n",
       "4     0.0                                                0.0        \n",
       "\n",
       "   Электрические части и оборудование      utro       day   evening     night  \n",
       "0                                 0.0  0.009465  0.012414  0.019658  0.007634  \n",
       "1                                 0.0  0.006507  0.008828  0.005707  0.001145  \n",
       "2                                 0.0  0.004141  0.015172  0.001268  0.021374  \n",
       "3                                 0.0  0.021591  0.028414  0.081167  0.001908  \n",
       "4                                 0.0  0.052943  0.052690  0.107800  0.041603  \n",
       "\n",
       "[5 rows x 188 columns]"
      ]
     },
     "execution_count": 102,
     "metadata": {},
     "output_type": "execute_result"
    }
   ],
   "source": [
    "epic_x_norm.head()"
   ]
  },
  {
   "cell_type": "code",
   "execution_count": 103,
   "id": "3284e2cb",
   "metadata": {},
   "outputs": [],
   "source": [
    "X_train, X_test, y_train, y_test = train_test_split(epic_x_norm, epic_y, test_size=0.2, random_state=1337)"
   ]
  },
  {
   "cell_type": "code",
   "execution_count": 96,
   "id": "a45ad552",
   "metadata": {
    "scrolled": true
   },
   "outputs": [
    {
     "name": "stdout",
     "output_type": "stream",
     "text": [
      "Fitting 4 folds for each of 100 candidates, totalling 400 fits\n"
     ]
    },
    {
     "data": {
      "text/plain": [
       "RandomizedSearchCV(cv=4, estimator=RandomForestClassifier(), n_iter=100,\n",
       "                   n_jobs=-1,\n",
       "                   param_distributions={'bootstrap': [True, False],\n",
       "                                        'criterion': ['gini', 'entropy',\n",
       "                                                      'log_loss'],\n",
       "                                        'max_depth': [10, 20, 30, 40, 50, 60,\n",
       "                                                      70, 80, 90, 100, 110,\n",
       "                                                      None],\n",
       "                                        'max_features': ['sqrt', 'log2'],\n",
       "                                        'min_samples_leaf': [1, 2, 4],\n",
       "                                        'min_samples_split': [2, 5, 10],\n",
       "                                        'n_estimators': [200, 400, 600, 800,\n",
       "                                                         1000, 1200, 1400, 1600,\n",
       "                                                         1800, 2000]},\n",
       "                   random_state=1337, scoring='roc_auc', verbose=5)"
      ]
     },
     "execution_count": 96,
     "metadata": {},
     "output_type": "execute_result"
    }
   ],
   "source": [
    "# https://towardsdatascience.com/hyperparameter-tuning-the-random-forest-in-python-using-scikit-learn-28d2aa77dd74\n",
    "# https://scikit-learn.org/stable/modules/generated/sklearn.ensemble.RandomForestClassifier.html\n",
    "# https://scikit-learn.org/stable/modules/generated/sklearn.model_selection.RandomizedSearchCV.html\n",
    "\n",
    "#1)Первый параметр леса - количество деревьев \n",
    "n_estimators = [int(x) for x in np.linspace(start = 200, stop = 2000, num = 10)]\n",
    "\n",
    "#2)Второй параметр - критерий, по которому считается качество разделения\n",
    "criterion = ['gini', 'entropy', 'log_loss']\n",
    "\n",
    "#3)Максимальная глубина дерева\n",
    "max_depth = [int(x) for x in np.linspace(10, 110, num = 11)]\n",
    "max_depth.append(None)\n",
    "\n",
    "#4)Минимальное количество выборок, необходимое для разделения внутреннего узла:\n",
    "min_samples_split = [2, 5, 10]\n",
    "\n",
    "#5)Минимальное количество выборок, необходимое для размещения в конечном узле. \n",
    "#Точка разделения на любой глубине будет учитываться только в том случае, \n",
    "#если она оставляет по крайней мере обучающие выборки min_samples_leaf в каждой из левой и правой ветвей\n",
    "min_samples_leaf = [1, 2, 4]\n",
    "\n",
    "#6)min_weight_fraction_leaf - не принципиально, можно оставить базовым нулем\n",
    "\n",
    "\n",
    "#7)Количество функций, которые следует учитывать при поиске наилучшего разделения:\n",
    "max_features = ['sqrt', 'log2']\n",
    "\n",
    "\n",
    "# Method of selecting samples for training each tree\n",
    "bootstrap = [True, False]\n",
    "\n",
    "#Остальные параметря я не понял, что означают\n",
    "\n",
    "# Создадим словарь параметров\n",
    "params = {'n_estimators': n_estimators,\n",
    "            'criterion' : criterion,\n",
    "            'max_features': max_features,\n",
    "            'max_depth': max_depth,\n",
    "            'min_samples_split': min_samples_split,\n",
    "            'min_samples_leaf': min_samples_leaf,\n",
    "            'bootstrap': bootstrap}\n",
    "\n",
    "hailey_baldwin = RandomForestClassifier()\n",
    "# ДЛя надежности будем использовать 100 итераций, проверять на 4 фолдах\n",
    "hailey_baldwin_random = RandomizedSearchCV(estimator = hailey_baldwin, param_distributions = params, \n",
    "                                           n_iter = 100, scoring = 'roc_auc', cv = 4, verbose=5, random_state=1337, \n",
    "                                           n_jobs = -1)\n",
    "# hailey_baldwin_random = HalvingGridSearchCV(hailey_baldwin, params, scoring=\"roc_auc\", cv=4, verbose = 3, n_jobs=-1)\n",
    "# Fit the random search model\n",
    "hailey_baldwin_random.fit(X_train, y_train)"
   ]
  },
  {
   "cell_type": "code",
   "execution_count": 97,
   "id": "3f436a38",
   "metadata": {},
   "outputs": [
    {
     "data": {
      "text/plain": [
       "{'n_estimators': 800,\n",
       " 'min_samples_split': 5,\n",
       " 'min_samples_leaf': 2,\n",
       " 'max_features': 'log2',\n",
       " 'max_depth': 30,\n",
       " 'criterion': 'entropy',\n",
       " 'bootstrap': True}"
      ]
     },
     "execution_count": 97,
     "metadata": {},
     "output_type": "execute_result"
    }
   ],
   "source": [
    "hailey_baldwin_random.best_params_"
   ]
  },
  {
   "cell_type": "markdown",
   "id": "eae081cb",
   "metadata": {},
   "source": [
    "-------------------------"
   ]
  },
  {
   "cell_type": "code",
   "execution_count": 80,
   "id": "e046fabb",
   "metadata": {},
   "outputs": [],
   "source": [
    "# Это первая версия модели\n",
    "hailey_baldwin = RandomForestClassifier(n_estimators = 1200, \n",
    "                                        min_samples_split = 5, \n",
    "                                        min_samples_leaf = 2, \n",
    "                                        max_features = 'sqrt',\n",
    "                                        max_depth = 20,\n",
    "                                        bootstrap = True)\n",
    "hailey_baldwin.fit(X_train, y_train)\n",
    "y_pred = hailey_baldwin.predict_proba(X_test)\n",
    "first_pred = y_pred[:,1]"
   ]
  },
  {
   "cell_type": "code",
   "execution_count": 81,
   "id": "0a06022a",
   "metadata": {},
   "outputs": [
    {
     "data": {
      "image/png": "[encoded data removed]",
      "text/plain": [
       "<Figure size 720x576 with 1 Axes>"
      ]
     },
     "metadata": {},
     "output_type": "display_data"
    }
   ],
   "source": [
    "# Построим roc-auc кривую:\n",
    "sns.set(rc={'figure.figsize':(10,8)})\n",
    "fallspos, trupos, threshold = roc_curve(y_test, first_pred)\n",
    "score = round(roc_auc_score(y_test, first_pred),4)\n",
    "grabgh1 = sns.lineplot(fallspos, trupos, label = f'Случайный лес, Roc-Auc = {score}')\n",
    "grabgh1.set(xlabel = 'False Positive Rate', ylabel = 'True Positive Rate', title = 'Roc-Auc Кривая')\n",
    "sns.lineplot([0, 1], [0, 1], label = \"Рандомный алгортим\", linestyle='--')\n",
    "None"
   ]
  },
  {
   "cell_type": "markdown",
   "id": "50a36674",
   "metadata": {},
   "source": [
    "---------------"
   ]
  },
  {
   "cell_type": "code",
   "execution_count": 104,
   "id": "21d87f83",
   "metadata": {},
   "outputs": [],
   "source": [
    "# Это вторая версия модели после модернизации сёрча и добавления туда нескольких новых параметров\n",
    "# Из-за этого итоговые оптимальные параметры для модели изменились (на несколько тысячных..........)\n",
    "hailey_bieber = RandomForestClassifier(n_estimators = 1200, \n",
    "                                        min_samples_split = 2, \n",
    "                                        min_samples_leaf = 4, \n",
    "                                        max_features = 'log2',\n",
    "                                        max_depth = None,\n",
    "                                        criterion = \"entropy\",\n",
    "                                        bootstrap = True)\n",
    "hailey_bieber.fit(X_train, y_train)\n",
    "y_pred = hailey_bieber.predict_proba(X_test)\n",
    "first_pred = y_pred[:,1]"
   ]
  },
  {
   "cell_type": "code",
   "execution_count": 105,
   "id": "5796c520",
   "metadata": {},
   "outputs": [
    {
     "data": {
      "image/png": "[encoded data removed]",
      "text/plain": [
       "<Figure size 720x576 with 1 Axes>"
      ]
     },
     "metadata": {},
     "output_type": "display_data"
    }
   ],
   "source": [
    "# Построим roc-auc кривую:\n",
    "sns.set(rc={'figure.figsize':(10,8)})\n",
    "fallspos, trupos, threshold = roc_curve(y_test, first_pred)\n",
    "score = round(roc_auc_score(y_test, first_pred),4)\n",
    "grabgh1 = sns.lineplot(fallspos, trupos, label = f'Случайный лес, Roc-Auc = {score}')\n",
    "grabgh1.set(xlabel = 'False Positive Rate', ylabel = 'True Positive Rate', title = 'Roc-Auc Кривая')\n",
    "sns.lineplot([0, 1], [0, 1], label = \"Рандомный алгортим\", linestyle='--')\n",
    "None"
   ]
  },
  {
   "cell_type": "code",
   "execution_count": 84,
   "id": "2539a2fc",
   "metadata": {},
   "outputs": [
    {
     "data": {
      "text/plain": [
       "array([0.45564465])"
      ]
     },
     "execution_count": 84,
     "metadata": {},
     "output_type": "execute_result"
    }
   ],
   "source": [
    "# Найдем оптимальный показатель отсечения: точка, которая наиболее близко расположена к TRP = 1\n",
    "unos = np.ones_like(fallspos)\n",
    "gipotenuza = sqrt((unos - trupos) ** 2 + fallspos ** 2)\n",
    "nomer = np.where(gipotenuza == gipotenuza.min())\n",
    "prohod = threshold[nomer] # получили порог, максимизирующий True Postitve Rate, то есть\n",
    "prohod"
   ]
  },
  {
   "cell_type": "code",
   "execution_count": 85,
   "id": "c9b43c26",
   "metadata": {},
   "outputs": [
    {
     "data": {
      "image/png": "[encoded data removed]",
      "text/plain": [
       "<Figure size 720x576 with 2 Axes>"
      ]
     },
     "metadata": {},
     "output_type": "display_data"
    }
   ],
   "source": [
    "y_pred = 1*(first_pred >= prohod)\n",
    "config = confusion_matrix(y_test, y_pred)\n",
    "metr = metrics.ConfusionMatrixDisplay(confusion_matrix = config, display_labels = hailey_bieber.classes_)\n",
    "metr.plot()\n",
    "plt.grid(b=None)\n",
    "None"
   ]
  },
  {
   "cell_type": "code",
   "execution_count": 86,
   "id": "e35f9464",
   "metadata": {},
   "outputs": [
    {
     "name": "stdout",
     "output_type": "stream",
     "text": [
      "Accuracy score: 0.7703349282296651 \n",
      " \n",
      " Precision score: 0.7245283018867924 \n",
      " \n",
      " Recall score: 0.7773279352226721 \n",
      " \n",
      "\n"
     ]
    }
   ],
   "source": [
    "y_pred = 1*(first_pred >= prohod)\n",
    "print(f'Accuracy score: {accuracy_score(y_test, y_pred)}', '\\n', '\\n',\n",
    "      f'Precision score: {precision_score(y_test, y_pred)}', '\\n', '\\n',\n",
    "     f'Recall score: {recall_score(y_test, y_pred)}', '\\n', '\\n')"
   ]
  },
  {
   "cell_type": "markdown",
   "id": "606b2ba0",
   "metadata": {},
   "source": [
    "**Вывод:** Добавление новых признаков, применение новой модели классификации и подбора для нее оптимальных парметров помогло увеличить ROC-AUC score c 0.818 до 0.861"
   ]
  },
  {
   "cell_type": "markdown",
   "id": "e7763298",
   "metadata": {},
   "source": [
    "------------------"
   ]
  },
  {
   "cell_type": "markdown",
   "id": "d72f406a",
   "metadata": {},
   "source": [
    "### Я надеялся на случайный лес, но он по итогу не сильно улучшил результат\n",
    "Попробую применить SVC"
   ]
  },
  {
   "cell_type": "code",
   "execution_count": 87,
   "id": "a955fd3d",
   "metadata": {},
   "outputs": [],
   "source": [
    "#https://towardsdatascience.com/top-10-binary-classification-algorithms-a-beginners-guide-feeacbd7a3e2\n",
    "#https://habr.com/ru/articles/430280/\n",
    "#https://towardsdatascience.com/20x-times-faster-grid-search-cross-validation-19ef01409b7c\n",
    "#https://towardsdatascience.com/top-machine-learning-algorithms-for-classification-2197870ff501"
   ]
  },
  {
   "cell_type": "code",
   "execution_count": 88,
   "id": "d8373e35",
   "metadata": {},
   "outputs": [
    {
     "data": {
      "text/plain": [
       "{'kernel': 'rbf', 'gamma': 0.1, 'C': 127.42749857031322}"
      ]
     },
     "execution_count": 88,
     "metadata": {},
     "output_type": "execute_result"
    }
   ],
   "source": [
    "#https://scikit-learn.org/stable/modules/generated/sklearn.svm.SVC.html\n",
    "naomi_campbell = SVC()\n",
    "\n",
    "\n",
    "param_grid = {'C':np.logspace(-2, 4, 20).tolist(),\n",
    "              'gamma':[1,0.1,0.001,0.0001, \"auto\", \"scale\"], \n",
    "              'kernel': [\"linear\", \"poly\", \"rbf\", \"sigmoid\"]}\n",
    "\n",
    "searcher_naomi_campbell = RandomizedSearchCV(naomi_campbell, param_grid,\n",
    "                                        n_iter = 100,\n",
    "                                        scoring=\"roc_auc\", cv=4, n_jobs=-1)\n",
    "searcher_naomi_campbell.fit(X_train, y_train)\n",
    "searcher_naomi_campbell.best_params_"
   ]
  },
  {
   "cell_type": "code",
   "execution_count": 89,
   "id": "77d21fa6",
   "metadata": {},
   "outputs": [],
   "source": [
    "# Протестируем эту модель, а далее скомбинируем с другими\n",
    "naomi_campbell = SVC(kernel = 'rbf', gamma = 0.1, C = 545.5594781168514, probability = True)\n",
    "naomi_campbell.fit(X_train, y_train)\n",
    "y_pred = naomi_campbell.predict_proba(X_test)\n",
    "first_pred = y_pred[:,1]"
   ]
  },
  {
   "cell_type": "code",
   "execution_count": 90,
   "id": "328e1497",
   "metadata": {},
   "outputs": [
    {
     "data": {
      "image/png": "[encoded data removed]",
      "text/plain": [
       "<Figure size 720x576 with 1 Axes>"
      ]
     },
     "metadata": {},
     "output_type": "display_data"
    }
   ],
   "source": [
    "# Построим roc-auc кривую:\n",
    "sns.set(rc={'figure.figsize':(10,8)})\n",
    "fallspos, trupos, threshold = roc_curve(y_test, first_pred)\n",
    "score = round(roc_auc_score(y_test, first_pred),4)\n",
    "grabgh1 = sns.lineplot(fallspos, trupos, label = f'Случайный лес, Roc-Auc = {score}')\n",
    "grabgh1.set(xlabel = 'False Positive Rate', ylabel = 'True Positive Rate', title = 'Roc-Auc Кривая')\n",
    "sns.lineplot([0, 1], [0, 1], label = \"Рандомный алгортим\", linestyle='--')\n",
    "None"
   ]
  },
  {
   "cell_type": "markdown",
   "id": "4c257863",
   "metadata": {},
   "source": [
    "**Вывод:** Стало только хуже. В таком случае неободимо еще больше обрабатывать имеющиеся данные"
   ]
  }
 ],
 "metadata": {
  "kernelspec": {
   "display_name": "Python 3 (ipykernel)",
   "language": "python",
   "name": "python3"
  },
  "language_info": {
   "codemirror_mode": {
    "name": "ipython",
    "version": 3
   },
   "file_extension": ".py",
   "mimetype": "text/x-python",
   "name": "python",
   "nbconvert_exporter": "python",
   "pygments_lexer": "ipython3",
   "version": "3.9.7"
  }
 },
 "nbformat": 4,
 "nbformat_minor": 5
}
